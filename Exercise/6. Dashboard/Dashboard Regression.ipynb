{
 "cells": [
  {
   "cell_type": "code",
   "execution_count": 186,
   "metadata": {},
   "outputs": [],
   "source": [
    "import pandas as pd\n",
    "import numpy as np\n",
    "import matplotlib.pyplot as plt\n",
    "import seaborn as sns\n",
    "\n",
    "from yellowbrick.regressor import PredictionError, ResidualsPlot"
   ]
  },
  {
   "cell_type": "code",
   "execution_count": 102,
   "metadata": {},
   "outputs": [],
   "source": [
    "df = pd.read_csv('dataset/house-prices-advanced-regression-techniques/train.csv')"
   ]
  },
  {
   "cell_type": "code",
   "execution_count": 103,
   "metadata": {},
   "outputs": [
    {
     "data": {
      "text/plain": [
       "SalePrice        1.000000\n",
       "OverallQual      0.790982\n",
       "GrLivArea        0.708624\n",
       "GarageCars       0.640409\n",
       "GarageArea       0.623431\n",
       "TotalBsmtSF      0.613581\n",
       "1stFlrSF         0.605852\n",
       "FullBath         0.560664\n",
       "TotRmsAbvGrd     0.533723\n",
       "YearBuilt        0.522897\n",
       "YearRemodAdd     0.507101\n",
       "GarageYrBlt      0.486362\n",
       "MasVnrArea       0.477493\n",
       "Fireplaces       0.466929\n",
       "BsmtFinSF1       0.386420\n",
       "LotFrontage      0.351799\n",
       "WoodDeckSF       0.324413\n",
       "2ndFlrSF         0.319334\n",
       "OpenPorchSF      0.315856\n",
       "HalfBath         0.284108\n",
       "LotArea          0.263843\n",
       "BsmtFullBath     0.227122\n",
       "BsmtUnfSF        0.214479\n",
       "BedroomAbvGr     0.168213\n",
       "KitchenAbvGr     0.135907\n",
       "EnclosedPorch    0.128578\n",
       "ScreenPorch      0.111447\n",
       "PoolArea         0.092404\n",
       "MSSubClass       0.084284\n",
       "OverallCond      0.077856\n",
       "MoSold           0.046432\n",
       "3SsnPorch        0.044584\n",
       "YrSold           0.028923\n",
       "LowQualFinSF     0.025606\n",
       "Id               0.021917\n",
       "MiscVal          0.021190\n",
       "BsmtHalfBath     0.016844\n",
       "BsmtFinSF2       0.011378\n",
       "Name: SalePrice, dtype: float64"
      ]
     },
     "execution_count": 103,
     "metadata": {},
     "output_type": "execute_result"
    }
   ],
   "source": [
    "df.corr()['SalePrice'].abs().sort_values(ascending=False)"
   ]
  },
  {
   "cell_type": "code",
   "execution_count": 104,
   "metadata": {},
   "outputs": [
    {
     "data": {
      "text/plain": [
       "count    1460.000000\n",
       "mean        6.099315\n",
       "std         1.382997\n",
       "min         1.000000\n",
       "25%         5.000000\n",
       "50%         6.000000\n",
       "75%         7.000000\n",
       "max        10.000000\n",
       "Name: OverallQual, dtype: float64"
      ]
     },
     "execution_count": 104,
     "metadata": {},
     "output_type": "execute_result"
    }
   ],
   "source": [
    "df['OverallQual'].describe()"
   ]
  },
  {
   "cell_type": "code",
   "execution_count": 105,
   "metadata": {},
   "outputs": [
    {
     "data": {
      "text/plain": [
       "count    1460.000000\n",
       "mean     1515.463699\n",
       "std       525.480383\n",
       "min       334.000000\n",
       "25%      1129.500000\n",
       "50%      1464.000000\n",
       "75%      1776.750000\n",
       "max      5642.000000\n",
       "Name: GrLivArea, dtype: float64"
      ]
     },
     "execution_count": 105,
     "metadata": {},
     "output_type": "execute_result"
    }
   ],
   "source": [
    "df['GrLivArea'].describe()"
   ]
  },
  {
   "cell_type": "code",
   "execution_count": 106,
   "metadata": {},
   "outputs": [
    {
     "data": {
      "text/plain": [
       "SalePrice       1.000000\n",
       "OverallQual     0.790982\n",
       "GrLivArea       0.708624\n",
       "GarageCars      0.640409\n",
       "GarageArea      0.623431\n",
       "TotalBsmtSF     0.613581\n",
       "1stFlrSF        0.605852\n",
       "ExterQual_TA    0.589044\n",
       "FullBath        0.560664\n",
       "BsmtQual_Ex     0.553105\n",
       "Name: SalePrice, dtype: float64"
      ]
     },
     "execution_count": 106,
     "metadata": {},
     "output_type": "execute_result"
    }
   ],
   "source": [
    "pd.get_dummies(df).corr()['SalePrice'].abs().sort_values(ascending=False).head(10)"
   ]
  },
  {
   "cell_type": "code",
   "execution_count": 107,
   "metadata": {},
   "outputs": [
    {
     "data": {
      "text/plain": [
       "TA    906\n",
       "Gd    488\n",
       "Ex     52\n",
       "Fa     14\n",
       "Name: ExterQual, dtype: int64"
      ]
     },
     "execution_count": 107,
     "metadata": {},
     "output_type": "execute_result"
    }
   ],
   "source": [
    "df['ExterQual'].value_counts()"
   ]
  },
  {
   "cell_type": "code",
   "execution_count": 134,
   "metadata": {},
   "outputs": [],
   "source": [
    "steamlit_df = df[['SalePrice', 'OverallQual', 'GrLivArea', 'GarageArea', 'GarageCars', '1stFlrSF', 'ExterQual']]"
   ]
  },
  {
   "cell_type": "code",
   "execution_count": 135,
   "metadata": {},
   "outputs": [
    {
     "data": {
      "text/plain": [
       "SalePrice      0\n",
       "OverallQual    0\n",
       "GrLivArea      0\n",
       "GarageArea     0\n",
       "GarageCars     0\n",
       "1stFlrSF       0\n",
       "ExterQual      0\n",
       "dtype: int64"
      ]
     },
     "execution_count": 135,
     "metadata": {},
     "output_type": "execute_result"
    }
   ],
   "source": [
    "steamlit_df.isnull().sum()"
   ]
  },
  {
   "cell_type": "code",
   "execution_count": 136,
   "metadata": {},
   "outputs": [],
   "source": [
    "skew_before_log = steamlit_df.skew().abs()"
   ]
  },
  {
   "cell_type": "code",
   "execution_count": 137,
   "metadata": {},
   "outputs": [],
   "source": [
    "skew_after_log = np.log(steamlit_df.select_dtypes('number') + 1).skew().abs()"
   ]
  },
  {
   "cell_type": "code",
   "execution_count": 138,
   "metadata": {},
   "outputs": [
    {
     "data": {
      "text/html": [
       "<div>\n",
       "<style scoped>\n",
       "    .dataframe tbody tr th:only-of-type {\n",
       "        vertical-align: middle;\n",
       "    }\n",
       "\n",
       "    .dataframe tbody tr th {\n",
       "        vertical-align: top;\n",
       "    }\n",
       "\n",
       "    .dataframe thead th {\n",
       "        text-align: right;\n",
       "    }\n",
       "</style>\n",
       "<table border=\"1\" class=\"dataframe\">\n",
       "  <thead>\n",
       "    <tr style=\"text-align: right;\">\n",
       "      <th></th>\n",
       "      <th>before_log</th>\n",
       "      <th>after_log</th>\n",
       "    </tr>\n",
       "  </thead>\n",
       "  <tbody>\n",
       "    <tr>\n",
       "      <th>SalePrice</th>\n",
       "      <td>1.882876</td>\n",
       "      <td>0.121347</td>\n",
       "    </tr>\n",
       "    <tr>\n",
       "      <th>OverallQual</th>\n",
       "      <td>0.216944</td>\n",
       "      <td>0.590977</td>\n",
       "    </tr>\n",
       "    <tr>\n",
       "      <th>GrLivArea</th>\n",
       "      <td>1.366560</td>\n",
       "      <td>0.006140</td>\n",
       "    </tr>\n",
       "    <tr>\n",
       "      <th>GarageArea</th>\n",
       "      <td>0.179981</td>\n",
       "      <td>3.482604</td>\n",
       "    </tr>\n",
       "    <tr>\n",
       "      <th>GarageCars</th>\n",
       "      <td>0.342549</td>\n",
       "      <td>1.370219</td>\n",
       "    </tr>\n",
       "    <tr>\n",
       "      <th>1stFlrSF</th>\n",
       "      <td>1.376757</td>\n",
       "      <td>0.080114</td>\n",
       "    </tr>\n",
       "  </tbody>\n",
       "</table>\n",
       "</div>"
      ],
      "text/plain": [
       "             before_log  after_log\n",
       "SalePrice      1.882876   0.121347\n",
       "OverallQual    0.216944   0.590977\n",
       "GrLivArea      1.366560   0.006140\n",
       "GarageArea     0.179981   3.482604\n",
       "GarageCars     0.342549   1.370219\n",
       "1stFlrSF       1.376757   0.080114"
      ]
     },
     "execution_count": 138,
     "metadata": {},
     "output_type": "execute_result"
    }
   ],
   "source": [
    "pd.DataFrame({\n",
    "    'before_log':skew_before_log,\n",
    "    'after_log':skew_after_log\n",
    "})"
   ]
  },
  {
   "cell_type": "markdown",
   "metadata": {},
   "source": [
    "SalePrice, GrLivArea lebih baik apabila dilakukan log transform"
   ]
  },
  {
   "cell_type": "code",
   "execution_count": 141,
   "metadata": {},
   "outputs": [
    {
     "name": "stderr",
     "output_type": "stream",
     "text": [
      "C:\\Users\\Elga Ridho Maulana\\Anaconda3\\lib\\site-packages\\ipykernel_launcher.py:1: SettingWithCopyWarning: \n",
      "A value is trying to be set on a copy of a slice from a DataFrame.\n",
      "Try using .loc[row_indexer,col_indexer] = value instead\n",
      "\n",
      "See the caveats in the documentation: http://pandas.pydata.org/pandas-docs/stable/user_guide/indexing.html#returning-a-view-versus-a-copy\n",
      "  \"\"\"Entry point for launching an IPython kernel.\n"
     ]
    }
   ],
   "source": [
    "steamlit_df['SalePrice'] = np.log(steamlit_df['SalePrice'] + 1)"
   ]
  },
  {
   "cell_type": "code",
   "execution_count": 142,
   "metadata": {},
   "outputs": [
    {
     "name": "stderr",
     "output_type": "stream",
     "text": [
      "C:\\Users\\Elga Ridho Maulana\\Anaconda3\\lib\\site-packages\\ipykernel_launcher.py:1: SettingWithCopyWarning: \n",
      "A value is trying to be set on a copy of a slice from a DataFrame.\n",
      "Try using .loc[row_indexer,col_indexer] = value instead\n",
      "\n",
      "See the caveats in the documentation: http://pandas.pydata.org/pandas-docs/stable/user_guide/indexing.html#returning-a-view-versus-a-copy\n",
      "  \"\"\"Entry point for launching an IPython kernel.\n"
     ]
    }
   ],
   "source": [
    "steamlit_df['GrLivArea'] = np.log(steamlit_df['GrLivArea'] + 1)"
   ]
  },
  {
   "cell_type": "code",
   "execution_count": 139,
   "metadata": {},
   "outputs": [
    {
     "name": "stderr",
     "output_type": "stream",
     "text": [
      "C:\\Users\\Elga Ridho Maulana\\Anaconda3\\lib\\site-packages\\ipykernel_launcher.py:1: SettingWithCopyWarning: \n",
      "A value is trying to be set on a copy of a slice from a DataFrame.\n",
      "Try using .loc[row_indexer,col_indexer] = value instead\n",
      "\n",
      "See the caveats in the documentation: http://pandas.pydata.org/pandas-docs/stable/user_guide/indexing.html#returning-a-view-versus-a-copy\n",
      "  \"\"\"Entry point for launching an IPython kernel.\n"
     ]
    }
   ],
   "source": [
    "steamlit_df['1stFlrSF'] = np.log(steamlit_df['1stFlrSF'] + 1)"
   ]
  },
  {
   "cell_type": "code",
   "execution_count": 143,
   "metadata": {},
   "outputs": [
    {
     "data": {
      "text/html": [
       "<div>\n",
       "<style scoped>\n",
       "    .dataframe tbody tr th:only-of-type {\n",
       "        vertical-align: middle;\n",
       "    }\n",
       "\n",
       "    .dataframe tbody tr th {\n",
       "        vertical-align: top;\n",
       "    }\n",
       "\n",
       "    .dataframe thead th {\n",
       "        text-align: right;\n",
       "    }\n",
       "</style>\n",
       "<table border=\"1\" class=\"dataframe\">\n",
       "  <thead>\n",
       "    <tr style=\"text-align: right;\">\n",
       "      <th></th>\n",
       "      <th>SalePrice</th>\n",
       "      <th>OverallQual</th>\n",
       "      <th>GrLivArea</th>\n",
       "      <th>GarageArea</th>\n",
       "      <th>GarageCars</th>\n",
       "      <th>1stFlrSF</th>\n",
       "      <th>ExterQual</th>\n",
       "    </tr>\n",
       "  </thead>\n",
       "  <tbody>\n",
       "    <tr>\n",
       "      <th>0</th>\n",
       "      <td>12.247699</td>\n",
       "      <td>7</td>\n",
       "      <td>7.444833</td>\n",
       "      <td>548</td>\n",
       "      <td>2</td>\n",
       "      <td>6.753438</td>\n",
       "      <td>Gd</td>\n",
       "    </tr>\n",
       "    <tr>\n",
       "      <th>1</th>\n",
       "      <td>12.109016</td>\n",
       "      <td>6</td>\n",
       "      <td>7.141245</td>\n",
       "      <td>460</td>\n",
       "      <td>2</td>\n",
       "      <td>7.141245</td>\n",
       "      <td>TA</td>\n",
       "    </tr>\n",
       "    <tr>\n",
       "      <th>2</th>\n",
       "      <td>12.317171</td>\n",
       "      <td>7</td>\n",
       "      <td>7.488294</td>\n",
       "      <td>608</td>\n",
       "      <td>2</td>\n",
       "      <td>6.825460</td>\n",
       "      <td>Gd</td>\n",
       "    </tr>\n",
       "    <tr>\n",
       "      <th>3</th>\n",
       "      <td>11.849405</td>\n",
       "      <td>7</td>\n",
       "      <td>7.448916</td>\n",
       "      <td>642</td>\n",
       "      <td>3</td>\n",
       "      <td>6.869014</td>\n",
       "      <td>TA</td>\n",
       "    </tr>\n",
       "    <tr>\n",
       "      <th>4</th>\n",
       "      <td>12.429220</td>\n",
       "      <td>8</td>\n",
       "      <td>7.695758</td>\n",
       "      <td>836</td>\n",
       "      <td>3</td>\n",
       "      <td>7.044033</td>\n",
       "      <td>Gd</td>\n",
       "    </tr>\n",
       "    <tr>\n",
       "      <th>...</th>\n",
       "      <td>...</td>\n",
       "      <td>...</td>\n",
       "      <td>...</td>\n",
       "      <td>...</td>\n",
       "      <td>...</td>\n",
       "      <td>...</td>\n",
       "      <td>...</td>\n",
       "    </tr>\n",
       "    <tr>\n",
       "      <th>1455</th>\n",
       "      <td>12.072547</td>\n",
       "      <td>6</td>\n",
       "      <td>7.407318</td>\n",
       "      <td>460</td>\n",
       "      <td>2</td>\n",
       "      <td>6.860664</td>\n",
       "      <td>TA</td>\n",
       "    </tr>\n",
       "    <tr>\n",
       "      <th>1456</th>\n",
       "      <td>12.254868</td>\n",
       "      <td>6</td>\n",
       "      <td>7.637234</td>\n",
       "      <td>500</td>\n",
       "      <td>2</td>\n",
       "      <td>7.637234</td>\n",
       "      <td>TA</td>\n",
       "    </tr>\n",
       "    <tr>\n",
       "      <th>1457</th>\n",
       "      <td>12.493133</td>\n",
       "      <td>7</td>\n",
       "      <td>7.758333</td>\n",
       "      <td>252</td>\n",
       "      <td>1</td>\n",
       "      <td>7.080868</td>\n",
       "      <td>Ex</td>\n",
       "    </tr>\n",
       "    <tr>\n",
       "      <th>1458</th>\n",
       "      <td>11.864469</td>\n",
       "      <td>5</td>\n",
       "      <td>6.983790</td>\n",
       "      <td>240</td>\n",
       "      <td>1</td>\n",
       "      <td>6.983790</td>\n",
       "      <td>TA</td>\n",
       "    </tr>\n",
       "    <tr>\n",
       "      <th>1459</th>\n",
       "      <td>11.901590</td>\n",
       "      <td>5</td>\n",
       "      <td>7.136483</td>\n",
       "      <td>276</td>\n",
       "      <td>1</td>\n",
       "      <td>7.136483</td>\n",
       "      <td>Gd</td>\n",
       "    </tr>\n",
       "  </tbody>\n",
       "</table>\n",
       "<p>1460 rows × 7 columns</p>\n",
       "</div>"
      ],
      "text/plain": [
       "      SalePrice  OverallQual  GrLivArea  GarageArea  GarageCars  1stFlrSF  \\\n",
       "0     12.247699            7   7.444833         548           2  6.753438   \n",
       "1     12.109016            6   7.141245         460           2  7.141245   \n",
       "2     12.317171            7   7.488294         608           2  6.825460   \n",
       "3     11.849405            7   7.448916         642           3  6.869014   \n",
       "4     12.429220            8   7.695758         836           3  7.044033   \n",
       "...         ...          ...        ...         ...         ...       ...   \n",
       "1455  12.072547            6   7.407318         460           2  6.860664   \n",
       "1456  12.254868            6   7.637234         500           2  7.637234   \n",
       "1457  12.493133            7   7.758333         252           1  7.080868   \n",
       "1458  11.864469            5   6.983790         240           1  6.983790   \n",
       "1459  11.901590            5   7.136483         276           1  7.136483   \n",
       "\n",
       "     ExterQual  \n",
       "0           Gd  \n",
       "1           TA  \n",
       "2           Gd  \n",
       "3           TA  \n",
       "4           Gd  \n",
       "...        ...  \n",
       "1455        TA  \n",
       "1456        TA  \n",
       "1457        Ex  \n",
       "1458        TA  \n",
       "1459        Gd  \n",
       "\n",
       "[1460 rows x 7 columns]"
      ]
     },
     "execution_count": 143,
     "metadata": {},
     "output_type": "execute_result"
    }
   ],
   "source": [
    "steamlit_df"
   ]
  },
  {
   "cell_type": "code",
   "execution_count": 144,
   "metadata": {},
   "outputs": [
    {
     "data": {
      "text/plain": [
       "count    1460.000000\n",
       "mean        1.767123\n",
       "std         0.747315\n",
       "min         0.000000\n",
       "25%         1.000000\n",
       "50%         2.000000\n",
       "75%         2.000000\n",
       "max         4.000000\n",
       "Name: GarageCars, dtype: float64"
      ]
     },
     "execution_count": 144,
     "metadata": {},
     "output_type": "execute_result"
    }
   ],
   "source": [
    "steamlit_df['GarageCars'].describe()"
   ]
  },
  {
   "cell_type": "code",
   "execution_count": 145,
   "metadata": {},
   "outputs": [],
   "source": [
    "model_df = pd.get_dummies(steamlit_df)"
   ]
  },
  {
   "cell_type": "code",
   "execution_count": 146,
   "metadata": {},
   "outputs": [
    {
     "data": {
      "text/html": [
       "<div>\n",
       "<style scoped>\n",
       "    .dataframe tbody tr th:only-of-type {\n",
       "        vertical-align: middle;\n",
       "    }\n",
       "\n",
       "    .dataframe tbody tr th {\n",
       "        vertical-align: top;\n",
       "    }\n",
       "\n",
       "    .dataframe thead th {\n",
       "        text-align: right;\n",
       "    }\n",
       "</style>\n",
       "<table border=\"1\" class=\"dataframe\">\n",
       "  <thead>\n",
       "    <tr style=\"text-align: right;\">\n",
       "      <th></th>\n",
       "      <th>SalePrice</th>\n",
       "      <th>OverallQual</th>\n",
       "      <th>GrLivArea</th>\n",
       "      <th>GarageArea</th>\n",
       "      <th>GarageCars</th>\n",
       "      <th>1stFlrSF</th>\n",
       "      <th>ExterQual_Ex</th>\n",
       "      <th>ExterQual_Fa</th>\n",
       "      <th>ExterQual_Gd</th>\n",
       "      <th>ExterQual_TA</th>\n",
       "    </tr>\n",
       "  </thead>\n",
       "  <tbody>\n",
       "    <tr>\n",
       "      <th>0</th>\n",
       "      <td>12.247699</td>\n",
       "      <td>7</td>\n",
       "      <td>7.444833</td>\n",
       "      <td>548</td>\n",
       "      <td>2</td>\n",
       "      <td>6.753438</td>\n",
       "      <td>0</td>\n",
       "      <td>0</td>\n",
       "      <td>1</td>\n",
       "      <td>0</td>\n",
       "    </tr>\n",
       "    <tr>\n",
       "      <th>1</th>\n",
       "      <td>12.109016</td>\n",
       "      <td>6</td>\n",
       "      <td>7.141245</td>\n",
       "      <td>460</td>\n",
       "      <td>2</td>\n",
       "      <td>7.141245</td>\n",
       "      <td>0</td>\n",
       "      <td>0</td>\n",
       "      <td>0</td>\n",
       "      <td>1</td>\n",
       "    </tr>\n",
       "    <tr>\n",
       "      <th>2</th>\n",
       "      <td>12.317171</td>\n",
       "      <td>7</td>\n",
       "      <td>7.488294</td>\n",
       "      <td>608</td>\n",
       "      <td>2</td>\n",
       "      <td>6.825460</td>\n",
       "      <td>0</td>\n",
       "      <td>0</td>\n",
       "      <td>1</td>\n",
       "      <td>0</td>\n",
       "    </tr>\n",
       "    <tr>\n",
       "      <th>3</th>\n",
       "      <td>11.849405</td>\n",
       "      <td>7</td>\n",
       "      <td>7.448916</td>\n",
       "      <td>642</td>\n",
       "      <td>3</td>\n",
       "      <td>6.869014</td>\n",
       "      <td>0</td>\n",
       "      <td>0</td>\n",
       "      <td>0</td>\n",
       "      <td>1</td>\n",
       "    </tr>\n",
       "    <tr>\n",
       "      <th>4</th>\n",
       "      <td>12.429220</td>\n",
       "      <td>8</td>\n",
       "      <td>7.695758</td>\n",
       "      <td>836</td>\n",
       "      <td>3</td>\n",
       "      <td>7.044033</td>\n",
       "      <td>0</td>\n",
       "      <td>0</td>\n",
       "      <td>1</td>\n",
       "      <td>0</td>\n",
       "    </tr>\n",
       "    <tr>\n",
       "      <th>...</th>\n",
       "      <td>...</td>\n",
       "      <td>...</td>\n",
       "      <td>...</td>\n",
       "      <td>...</td>\n",
       "      <td>...</td>\n",
       "      <td>...</td>\n",
       "      <td>...</td>\n",
       "      <td>...</td>\n",
       "      <td>...</td>\n",
       "      <td>...</td>\n",
       "    </tr>\n",
       "    <tr>\n",
       "      <th>1455</th>\n",
       "      <td>12.072547</td>\n",
       "      <td>6</td>\n",
       "      <td>7.407318</td>\n",
       "      <td>460</td>\n",
       "      <td>2</td>\n",
       "      <td>6.860664</td>\n",
       "      <td>0</td>\n",
       "      <td>0</td>\n",
       "      <td>0</td>\n",
       "      <td>1</td>\n",
       "    </tr>\n",
       "    <tr>\n",
       "      <th>1456</th>\n",
       "      <td>12.254868</td>\n",
       "      <td>6</td>\n",
       "      <td>7.637234</td>\n",
       "      <td>500</td>\n",
       "      <td>2</td>\n",
       "      <td>7.637234</td>\n",
       "      <td>0</td>\n",
       "      <td>0</td>\n",
       "      <td>0</td>\n",
       "      <td>1</td>\n",
       "    </tr>\n",
       "    <tr>\n",
       "      <th>1457</th>\n",
       "      <td>12.493133</td>\n",
       "      <td>7</td>\n",
       "      <td>7.758333</td>\n",
       "      <td>252</td>\n",
       "      <td>1</td>\n",
       "      <td>7.080868</td>\n",
       "      <td>1</td>\n",
       "      <td>0</td>\n",
       "      <td>0</td>\n",
       "      <td>0</td>\n",
       "    </tr>\n",
       "    <tr>\n",
       "      <th>1458</th>\n",
       "      <td>11.864469</td>\n",
       "      <td>5</td>\n",
       "      <td>6.983790</td>\n",
       "      <td>240</td>\n",
       "      <td>1</td>\n",
       "      <td>6.983790</td>\n",
       "      <td>0</td>\n",
       "      <td>0</td>\n",
       "      <td>0</td>\n",
       "      <td>1</td>\n",
       "    </tr>\n",
       "    <tr>\n",
       "      <th>1459</th>\n",
       "      <td>11.901590</td>\n",
       "      <td>5</td>\n",
       "      <td>7.136483</td>\n",
       "      <td>276</td>\n",
       "      <td>1</td>\n",
       "      <td>7.136483</td>\n",
       "      <td>0</td>\n",
       "      <td>0</td>\n",
       "      <td>1</td>\n",
       "      <td>0</td>\n",
       "    </tr>\n",
       "  </tbody>\n",
       "</table>\n",
       "<p>1460 rows × 10 columns</p>\n",
       "</div>"
      ],
      "text/plain": [
       "      SalePrice  OverallQual  GrLivArea  GarageArea  GarageCars  1stFlrSF  \\\n",
       "0     12.247699            7   7.444833         548           2  6.753438   \n",
       "1     12.109016            6   7.141245         460           2  7.141245   \n",
       "2     12.317171            7   7.488294         608           2  6.825460   \n",
       "3     11.849405            7   7.448916         642           3  6.869014   \n",
       "4     12.429220            8   7.695758         836           3  7.044033   \n",
       "...         ...          ...        ...         ...         ...       ...   \n",
       "1455  12.072547            6   7.407318         460           2  6.860664   \n",
       "1456  12.254868            6   7.637234         500           2  7.637234   \n",
       "1457  12.493133            7   7.758333         252           1  7.080868   \n",
       "1458  11.864469            5   6.983790         240           1  6.983790   \n",
       "1459  11.901590            5   7.136483         276           1  7.136483   \n",
       "\n",
       "      ExterQual_Ex  ExterQual_Fa  ExterQual_Gd  ExterQual_TA  \n",
       "0                0             0             1             0  \n",
       "1                0             0             0             1  \n",
       "2                0             0             1             0  \n",
       "3                0             0             0             1  \n",
       "4                0             0             1             0  \n",
       "...            ...           ...           ...           ...  \n",
       "1455             0             0             0             1  \n",
       "1456             0             0             0             1  \n",
       "1457             1             0             0             0  \n",
       "1458             0             0             0             1  \n",
       "1459             0             0             1             0  \n",
       "\n",
       "[1460 rows x 10 columns]"
      ]
     },
     "execution_count": 146,
     "metadata": {},
     "output_type": "execute_result"
    }
   ],
   "source": [
    "pd.get_dummies(steamlit_df)"
   ]
  },
  {
   "cell_type": "markdown",
   "metadata": {},
   "source": [
    "## Modelling"
   ]
  },
  {
   "cell_type": "code",
   "execution_count": 147,
   "metadata": {},
   "outputs": [],
   "source": [
    "X = model_df.drop('SalePrice', axis=1)"
   ]
  },
  {
   "cell_type": "code",
   "execution_count": 148,
   "metadata": {},
   "outputs": [],
   "source": [
    "y = model_df['SalePrice']"
   ]
  },
  {
   "cell_type": "code",
   "execution_count": 149,
   "metadata": {},
   "outputs": [],
   "source": [
    "from sklearn.model_selection import train_test_split\n",
    "from sklearn.linear_model import LinearRegression, Lasso, Ridge\n",
    "from sklearn.metrics import mean_squared_error"
   ]
  },
  {
   "cell_type": "code",
   "execution_count": 150,
   "metadata": {},
   "outputs": [],
   "source": [
    "import pickle"
   ]
  },
  {
   "cell_type": "code",
   "execution_count": 151,
   "metadata": {},
   "outputs": [],
   "source": [
    "X_train, X_test, y_train, y_test = train_test_split(X, y, test_size=0.2, random_state=1000)"
   ]
  },
  {
   "cell_type": "code",
   "execution_count": 152,
   "metadata": {},
   "outputs": [
    {
     "data": {
      "text/html": [
       "<div>\n",
       "<style scoped>\n",
       "    .dataframe tbody tr th:only-of-type {\n",
       "        vertical-align: middle;\n",
       "    }\n",
       "\n",
       "    .dataframe tbody tr th {\n",
       "        vertical-align: top;\n",
       "    }\n",
       "\n",
       "    .dataframe thead th {\n",
       "        text-align: right;\n",
       "    }\n",
       "</style>\n",
       "<table border=\"1\" class=\"dataframe\">\n",
       "  <thead>\n",
       "    <tr style=\"text-align: right;\">\n",
       "      <th></th>\n",
       "      <th>OverallQual</th>\n",
       "      <th>GrLivArea</th>\n",
       "      <th>GarageArea</th>\n",
       "      <th>GarageCars</th>\n",
       "      <th>1stFlrSF</th>\n",
       "      <th>ExterQual_Ex</th>\n",
       "      <th>ExterQual_Fa</th>\n",
       "      <th>ExterQual_Gd</th>\n",
       "      <th>ExterQual_TA</th>\n",
       "    </tr>\n",
       "  </thead>\n",
       "  <tbody>\n",
       "    <tr>\n",
       "      <th>931</th>\n",
       "      <td>5</td>\n",
       "      <td>6.830874</td>\n",
       "      <td>429</td>\n",
       "      <td>1</td>\n",
       "      <td>6.830874</td>\n",
       "      <td>0</td>\n",
       "      <td>0</td>\n",
       "      <td>0</td>\n",
       "      <td>1</td>\n",
       "    </tr>\n",
       "    <tr>\n",
       "      <th>1436</th>\n",
       "      <td>4</td>\n",
       "      <td>6.762730</td>\n",
       "      <td>528</td>\n",
       "      <td>2</td>\n",
       "      <td>6.762730</td>\n",
       "      <td>0</td>\n",
       "      <td>0</td>\n",
       "      <td>0</td>\n",
       "      <td>1</td>\n",
       "    </tr>\n",
       "    <tr>\n",
       "      <th>1214</th>\n",
       "      <td>5</td>\n",
       "      <td>6.907755</td>\n",
       "      <td>300</td>\n",
       "      <td>1</td>\n",
       "      <td>6.907755</td>\n",
       "      <td>0</td>\n",
       "      <td>0</td>\n",
       "      <td>0</td>\n",
       "      <td>1</td>\n",
       "    </tr>\n",
       "    <tr>\n",
       "      <th>611</th>\n",
       "      <td>6</td>\n",
       "      <td>6.940222</td>\n",
       "      <td>564</td>\n",
       "      <td>2</td>\n",
       "      <td>6.940222</td>\n",
       "      <td>0</td>\n",
       "      <td>0</td>\n",
       "      <td>0</td>\n",
       "      <td>1</td>\n",
       "    </tr>\n",
       "    <tr>\n",
       "      <th>1376</th>\n",
       "      <td>6</td>\n",
       "      <td>6.673298</td>\n",
       "      <td>160</td>\n",
       "      <td>1</td>\n",
       "      <td>6.673298</td>\n",
       "      <td>0</td>\n",
       "      <td>0</td>\n",
       "      <td>0</td>\n",
       "      <td>1</td>\n",
       "    </tr>\n",
       "    <tr>\n",
       "      <th>...</th>\n",
       "      <td>...</td>\n",
       "      <td>...</td>\n",
       "      <td>...</td>\n",
       "      <td>...</td>\n",
       "      <td>...</td>\n",
       "      <td>...</td>\n",
       "      <td>...</td>\n",
       "      <td>...</td>\n",
       "      <td>...</td>\n",
       "    </tr>\n",
       "    <tr>\n",
       "      <th>350</th>\n",
       "      <td>9</td>\n",
       "      <td>7.533694</td>\n",
       "      <td>617</td>\n",
       "      <td>2</td>\n",
       "      <td>7.533694</td>\n",
       "      <td>1</td>\n",
       "      <td>0</td>\n",
       "      <td>0</td>\n",
       "      <td>0</td>\n",
       "    </tr>\n",
       "    <tr>\n",
       "      <th>1275</th>\n",
       "      <td>5</td>\n",
       "      <td>7.560601</td>\n",
       "      <td>400</td>\n",
       "      <td>2</td>\n",
       "      <td>6.834109</td>\n",
       "      <td>0</td>\n",
       "      <td>0</td>\n",
       "      <td>0</td>\n",
       "      <td>1</td>\n",
       "    </tr>\n",
       "    <tr>\n",
       "      <th>71</th>\n",
       "      <td>4</td>\n",
       "      <td>6.740519</td>\n",
       "      <td>360</td>\n",
       "      <td>2</td>\n",
       "      <td>6.740519</td>\n",
       "      <td>0</td>\n",
       "      <td>0</td>\n",
       "      <td>0</td>\n",
       "      <td>1</td>\n",
       "    </tr>\n",
       "    <tr>\n",
       "      <th>599</th>\n",
       "      <td>6</td>\n",
       "      <td>7.350516</td>\n",
       "      <td>452</td>\n",
       "      <td>2</td>\n",
       "      <td>6.575076</td>\n",
       "      <td>0</td>\n",
       "      <td>0</td>\n",
       "      <td>0</td>\n",
       "      <td>1</td>\n",
       "    </tr>\n",
       "    <tr>\n",
       "      <th>1459</th>\n",
       "      <td>5</td>\n",
       "      <td>7.136483</td>\n",
       "      <td>276</td>\n",
       "      <td>1</td>\n",
       "      <td>7.136483</td>\n",
       "      <td>0</td>\n",
       "      <td>0</td>\n",
       "      <td>1</td>\n",
       "      <td>0</td>\n",
       "    </tr>\n",
       "  </tbody>\n",
       "</table>\n",
       "<p>1168 rows × 9 columns</p>\n",
       "</div>"
      ],
      "text/plain": [
       "      OverallQual  GrLivArea  GarageArea  GarageCars  1stFlrSF  ExterQual_Ex  \\\n",
       "931             5   6.830874         429           1  6.830874             0   \n",
       "1436            4   6.762730         528           2  6.762730             0   \n",
       "1214            5   6.907755         300           1  6.907755             0   \n",
       "611             6   6.940222         564           2  6.940222             0   \n",
       "1376            6   6.673298         160           1  6.673298             0   \n",
       "...           ...        ...         ...         ...       ...           ...   \n",
       "350             9   7.533694         617           2  7.533694             1   \n",
       "1275            5   7.560601         400           2  6.834109             0   \n",
       "71              4   6.740519         360           2  6.740519             0   \n",
       "599             6   7.350516         452           2  6.575076             0   \n",
       "1459            5   7.136483         276           1  7.136483             0   \n",
       "\n",
       "      ExterQual_Fa  ExterQual_Gd  ExterQual_TA  \n",
       "931              0             0             1  \n",
       "1436             0             0             1  \n",
       "1214             0             0             1  \n",
       "611              0             0             1  \n",
       "1376             0             0             1  \n",
       "...            ...           ...           ...  \n",
       "350              0             0             0  \n",
       "1275             0             0             1  \n",
       "71               0             0             1  \n",
       "599              0             0             1  \n",
       "1459             0             1             0  \n",
       "\n",
       "[1168 rows x 9 columns]"
      ]
     },
     "execution_count": 152,
     "metadata": {},
     "output_type": "execute_result"
    }
   ],
   "source": [
    "X_train"
   ]
  },
  {
   "cell_type": "code",
   "execution_count": 181,
   "metadata": {},
   "outputs": [],
   "source": [
    "pickle.dump(X_train, open('X_train.sav', 'wb'))"
   ]
  },
  {
   "cell_type": "code",
   "execution_count": 182,
   "metadata": {},
   "outputs": [],
   "source": [
    "pickle.dump(y_train, open('y_train.sav', 'wb'))"
   ]
  },
  {
   "cell_type": "code",
   "execution_count": 183,
   "metadata": {},
   "outputs": [],
   "source": [
    "pickle.dump(X_test, open('X_test.sav', 'wb'))"
   ]
  },
  {
   "cell_type": "code",
   "execution_count": 184,
   "metadata": {},
   "outputs": [],
   "source": [
    "pickle.dump(y_test, open('y_test.sav', 'wb'))"
   ]
  },
  {
   "cell_type": "markdown",
   "metadata": {},
   "source": [
    "### Linear Regression"
   ]
  },
  {
   "cell_type": "code",
   "execution_count": 153,
   "metadata": {},
   "outputs": [],
   "source": [
    "model_lr = LinearRegression()"
   ]
  },
  {
   "cell_type": "code",
   "execution_count": 154,
   "metadata": {},
   "outputs": [
    {
     "data": {
      "text/plain": [
       "LinearRegression(copy_X=True, fit_intercept=True, n_jobs=None, normalize=False)"
      ]
     },
     "execution_count": 154,
     "metadata": {},
     "output_type": "execute_result"
    }
   ],
   "source": [
    "model_lr.fit(X_train, y_train)"
   ]
  },
  {
   "cell_type": "code",
   "execution_count": 155,
   "metadata": {},
   "outputs": [
    {
     "data": {
      "text/plain": [
       "0.8031929638765777"
      ]
     },
     "execution_count": 155,
     "metadata": {},
     "output_type": "execute_result"
    }
   ],
   "source": [
    "model_lr.score(X_train, y_train)"
   ]
  },
  {
   "cell_type": "code",
   "execution_count": 156,
   "metadata": {},
   "outputs": [],
   "source": [
    "prediction = model_lr.predict(X_test)"
   ]
  },
  {
   "cell_type": "code",
   "execution_count": 157,
   "metadata": {},
   "outputs": [
    {
     "data": {
      "text/plain": [
       "array([102008.91330722, 167554.67707459, 163074.8693835 , 180386.54638503,\n",
       "       150117.20757573, 147398.46991098, 212862.50090103, 112298.71646783,\n",
       "       120988.26297631, 143031.75024868, 143685.52907542, 143486.04329941,\n",
       "       218329.04169695, 107729.52258904, 209465.80663043, 116170.87632665,\n",
       "       160790.332415  , 173347.58472527, 154533.0918346 ,  94928.69085993,\n",
       "        97207.87587828, 204848.41792727,  73614.29731302, 161251.55479328,\n",
       "        95358.07326542, 294912.39350323, 309019.97771667, 181245.40490049,\n",
       "       135640.08149586, 142427.23359204, 111810.29728954, 203357.8225845 ,\n",
       "       122725.49633792, 204323.519559  , 210596.57531266, 119516.95906815,\n",
       "       117616.15768467, 286032.69006542, 241373.18507616, 131756.6183257 ,\n",
       "       123429.33859773, 152469.7390785 , 156804.80165309, 291874.39924816,\n",
       "       196288.88018297, 109717.4564492 , 218411.86407222, 292803.38832478,\n",
       "       126772.05047735, 106534.89333559, 115479.92469608, 412871.34257959,\n",
       "       101119.05247423, 203008.54781505,  98233.91640677, 141843.60036099,\n",
       "       141843.60036099,  77396.21976089, 115680.03740187, 208264.94824779,\n",
       "       129039.8729399 , 149049.61899786, 218672.62698982, 116657.67572623,\n",
       "       182685.47554716, 241730.44311607, 132333.45872141, 238975.71789707,\n",
       "       156551.44814463, 151879.47320988, 187738.80617242, 181839.92974038,\n",
       "       133528.80948585, 367483.23585605, 107611.26093956, 251741.56701865,\n",
       "       160767.53786777, 247871.47365241, 149108.67477914, 172407.58974761,\n",
       "       124715.03861234, 146480.96447849, 188603.20375478, 132308.04526876,\n",
       "       121449.36129321, 145387.45464934, 203365.38887683, 218344.77589094,\n",
       "       152855.13021562, 210000.82421789, 405492.66363599, 165018.62352516,\n",
       "       139371.93069756, 139673.9465201 , 181917.39307305, 130893.38073978,\n",
       "       344144.29151968, 237563.11203931, 263193.13779681, 284053.94248756,\n",
       "       123662.64098814, 141843.60036099, 206108.75641828, 167629.71533732,\n",
       "       191203.79640082, 185341.10307972, 125870.29278334, 389009.43328612,\n",
       "       172901.8123146 , 209491.65271683, 147973.065582  , 124686.98323756,\n",
       "       222524.90283893, 171400.48643186, 147004.86111435, 113771.45465485,\n",
       "       333337.16606545, 283002.2402962 , 114896.88467485, 129192.39380747,\n",
       "       186184.94889103, 204373.31864824, 150036.76799659, 148026.71051111,\n",
       "       146050.71575519, 300715.21604459, 141843.60036099, 241784.26932212,\n",
       "       296900.20653432, 214684.10514311,  82335.49709345, 128912.75191991,\n",
       "       142543.36751358, 236552.23773155, 201276.2559688 , 168599.4034467 ,\n",
       "        83736.65252096, 178005.17690248, 124016.37464564, 112647.44950574,\n",
       "       125943.13186347, 270494.06913827, 191083.9535284 , 123115.80058704,\n",
       "       120809.41503941,  77705.48936773, 143292.69276823, 119229.82787825,\n",
       "       125571.3903125 , 235376.27698761, 145307.82536338, 170119.02971865,\n",
       "       147902.83075407, 213743.6371521 , 126583.08500845, 227613.18122704,\n",
       "       195449.98854615, 176433.48855523,  95778.57888193, 174954.58224955,\n",
       "       171460.92601671, 181613.92507573, 107778.45960217, 182459.57825992,\n",
       "       166172.9524676 , 283963.390433  , 149018.18044006, 165591.02266976,\n",
       "       117105.18864771, 102957.06817947, 168635.51796134, 131561.89682841,\n",
       "       135292.87503321, 192150.49080529, 219181.44495129, 310759.66151861,\n",
       "        32149.89655643, 138535.97512139, 169671.52303434, 149700.06232799,\n",
       "       274415.63553841, 151307.19622806, 166494.00958794,  92934.54423051,\n",
       "       126971.49662   , 134697.10997315, 276387.61666391, 127699.06143037,\n",
       "       148784.64878683, 196971.25439178, 101557.29695682, 294053.92186082,\n",
       "       154872.47164703, 255572.60878362, 119469.19083449, 164053.97827949,\n",
       "       129699.32529372, 120924.32715791, 176566.03517848, 160162.41277567,\n",
       "       174267.06734973, 257963.85371173, 114142.91480025, 200160.13844141,\n",
       "       131494.89236312, 208598.41016432, 458420.31019372, 129487.96788501,\n",
       "       288924.58276446,  87858.81461101, 130529.60975875, 225555.41040365,\n",
       "        53496.32119388, 112718.92475718,  81217.71744821, 118962.50730358,\n",
       "       134646.49659869, 169970.08081433, 130687.7051312 , 179165.21325551,\n",
       "       292134.41316547, 145860.98957992, 126518.95572908, 149464.26085785,\n",
       "       241199.69879579, 189894.62872936,  97994.12339723, 189544.21327933,\n",
       "       185812.86619405, 127549.93864645,  73614.29731302, 191939.28534191,\n",
       "       249961.42951102, 111480.57775453, 271584.74153104, 294519.5740216 ,\n",
       "       146464.39678367, 458425.43068793, 349191.91564218, 189769.05355507,\n",
       "       120428.84273014, 125398.48534061, 354985.49688465, 166336.43499007,\n",
       "       251202.24685714, 127596.98833095, 189938.16654527, 141309.44631352,\n",
       "        73338.70077538, 147251.2178003 , 191118.7781755 , 105372.631743  ,\n",
       "        93713.60655322, 225042.61643663, 216449.70587952, 120063.1815888 ,\n",
       "       203373.76527295, 303593.88121968, 119439.30488229, 120343.80851936,\n",
       "       111109.04127332, 155267.29751043, 290708.71352501,  98791.57228424,\n",
       "       185062.55502537, 132737.25406101, 186708.6842388 , 289647.00963728,\n",
       "       179669.75267886, 124868.04120565, 124122.32000156, 137629.28076255,\n",
       "       162594.45494431, 113601.03513598, 192264.00338867, 259293.41533291,\n",
       "        73614.29731302, 142816.7554471 , 338804.37296013, 146135.32918659,\n",
       "       108572.45010377, 109057.10677704, 225332.71033261, 325211.4197595 ,\n",
       "       124715.95088955, 282636.77519682, 108906.12620936, 120833.11959327,\n",
       "       187918.4402973 , 180211.16070987, 141591.46672231, 139167.00491312])"
      ]
     },
     "execution_count": 157,
     "metadata": {},
     "output_type": "execute_result"
    }
   ],
   "source": [
    "np.exp(prediction) - 1"
   ]
  },
  {
   "cell_type": "code",
   "execution_count": 158,
   "metadata": {},
   "outputs": [
    {
     "data": {
      "text/plain": [
       "0.16032007061371417"
      ]
     },
     "execution_count": 158,
     "metadata": {},
     "output_type": "execute_result"
    }
   ],
   "source": [
    "np.sqrt(mean_squared_error(y_test, prediction))"
   ]
  },
  {
   "cell_type": "code",
   "execution_count": 159,
   "metadata": {},
   "outputs": [],
   "source": [
    "pickle.dump(model_lr, open('model_lr.sav', 'wb'))"
   ]
  },
  {
   "cell_type": "code",
   "execution_count": 160,
   "metadata": {},
   "outputs": [
    {
     "name": "stderr",
     "output_type": "stream",
     "text": [
      "Using TensorFlow backend.\n"
     ]
    }
   ],
   "source": [
    "import eli5"
   ]
  },
  {
   "cell_type": "code",
   "execution_count": 166,
   "metadata": {},
   "outputs": [],
   "source": [
    "feature_name = X_train.columns.to_list()"
   ]
  },
  {
   "cell_type": "code",
   "execution_count": 179,
   "metadata": {},
   "outputs": [
    {
     "data": {
      "text/html": [
       "<div>\n",
       "<style scoped>\n",
       "    .dataframe tbody tr th:only-of-type {\n",
       "        vertical-align: middle;\n",
       "    }\n",
       "\n",
       "    .dataframe tbody tr th {\n",
       "        vertical-align: top;\n",
       "    }\n",
       "\n",
       "    .dataframe thead th {\n",
       "        text-align: right;\n",
       "    }\n",
       "</style>\n",
       "<table border=\"1\" class=\"dataframe\">\n",
       "  <thead>\n",
       "    <tr style=\"text-align: right;\">\n",
       "      <th></th>\n",
       "      <th>feature</th>\n",
       "      <th>weight</th>\n",
       "    </tr>\n",
       "  </thead>\n",
       "  <tbody>\n",
       "    <tr>\n",
       "      <th>0</th>\n",
       "      <td>&lt;BIAS&gt;</td>\n",
       "      <td>7.375570</td>\n",
       "    </tr>\n",
       "    <tr>\n",
       "      <th>1</th>\n",
       "      <td>GrLivArea</td>\n",
       "      <td>0.315374</td>\n",
       "    </tr>\n",
       "    <tr>\n",
       "      <th>2</th>\n",
       "      <td>1stFlrSF</td>\n",
       "      <td>0.211053</td>\n",
       "    </tr>\n",
       "    <tr>\n",
       "      <th>3</th>\n",
       "      <td>OverallQual</td>\n",
       "      <td>0.111962</td>\n",
       "    </tr>\n",
       "    <tr>\n",
       "      <th>4</th>\n",
       "      <td>ExterQual_Ex</td>\n",
       "      <td>0.102712</td>\n",
       "    </tr>\n",
       "    <tr>\n",
       "      <th>5</th>\n",
       "      <td>GarageCars</td>\n",
       "      <td>0.079705</td>\n",
       "    </tr>\n",
       "    <tr>\n",
       "      <th>6</th>\n",
       "      <td>ExterQual_Gd</td>\n",
       "      <td>0.078185</td>\n",
       "    </tr>\n",
       "    <tr>\n",
       "      <th>7</th>\n",
       "      <td>GarageArea</td>\n",
       "      <td>0.000065</td>\n",
       "    </tr>\n",
       "    <tr>\n",
       "      <th>8</th>\n",
       "      <td>ExterQual_TA</td>\n",
       "      <td>-0.010845</td>\n",
       "    </tr>\n",
       "    <tr>\n",
       "      <th>9</th>\n",
       "      <td>ExterQual_Fa</td>\n",
       "      <td>-0.170052</td>\n",
       "    </tr>\n",
       "  </tbody>\n",
       "</table>\n",
       "</div>"
      ],
      "text/plain": [
       "        feature    weight\n",
       "0        <BIAS>  7.375570\n",
       "1     GrLivArea  0.315374\n",
       "2      1stFlrSF  0.211053\n",
       "3   OverallQual  0.111962\n",
       "4  ExterQual_Ex  0.102712\n",
       "5    GarageCars  0.079705\n",
       "6  ExterQual_Gd  0.078185\n",
       "7    GarageArea  0.000065\n",
       "8  ExterQual_TA -0.010845\n",
       "9  ExterQual_Fa -0.170052"
      ]
     },
     "execution_count": 179,
     "metadata": {},
     "output_type": "execute_result"
    }
   ],
   "source": [
    "eli5.formatters.as_dataframe.explain_weights_df(estimator=model_lr, feature_names=feature_name)[['feature', 'weight']]"
   ]
  },
  {
   "cell_type": "code",
   "execution_count": 175,
   "metadata": {},
   "outputs": [
    {
     "data": {
      "text/html": [
       "\n",
       "    <style>\n",
       "    table.eli5-weights tr:hover {\n",
       "        filter: brightness(85%);\n",
       "    }\n",
       "</style>\n",
       "\n",
       "\n",
       "\n",
       "    \n",
       "\n",
       "    \n",
       "\n",
       "    \n",
       "\n",
       "    \n",
       "\n",
       "    \n",
       "\n",
       "    \n",
       "\n",
       "\n",
       "    \n",
       "\n",
       "    \n",
       "\n",
       "    \n",
       "\n",
       "    \n",
       "        \n",
       "\n",
       "    \n",
       "\n",
       "        \n",
       "            \n",
       "                \n",
       "                \n",
       "    \n",
       "        <p style=\"margin-bottom: 0.5em; margin-top: 0em\">\n",
       "            <b>\n",
       "    \n",
       "        y\n",
       "    \n",
       "</b>\n",
       "\n",
       "top features\n",
       "        </p>\n",
       "    \n",
       "    <table class=\"eli5-weights\"\n",
       "           style=\"border-collapse: collapse; border: none; margin-top: 0em; table-layout: auto; margin-bottom: 2em;\">\n",
       "        <thead>\n",
       "        <tr style=\"border: none;\">\n",
       "            \n",
       "                <th style=\"padding: 0 1em 0 0.5em; text-align: right; border: none;\" title=\"Feature weights. Note that weights do not account for feature value scales, so if feature values have different scales, features with highest weights might not be the most important.\">\n",
       "                    Weight<sup>?</sup>\n",
       "                </th>\n",
       "            \n",
       "            <th style=\"padding: 0 0.5em 0 0.5em; text-align: left; border: none;\">Feature</th>\n",
       "            \n",
       "        </tr>\n",
       "        </thead>\n",
       "        <tbody>\n",
       "        \n",
       "            <tr style=\"background-color: hsl(120, 100.00%, 80.00%); border: none;\">\n",
       "    <td style=\"padding: 0 1em 0 0.5em; text-align: right; border: none;\">\n",
       "        +7.376\n",
       "    </td>\n",
       "    <td style=\"padding: 0 0.5em 0 0.5em; text-align: left; border: none;\">\n",
       "        &lt;BIAS&gt;\n",
       "    </td>\n",
       "    \n",
       "</tr>\n",
       "        \n",
       "            <tr style=\"background-color: hsl(120, 100.00%, 97.80%); border: none;\">\n",
       "    <td style=\"padding: 0 1em 0 0.5em; text-align: right; border: none;\">\n",
       "        +0.315\n",
       "    </td>\n",
       "    <td style=\"padding: 0 0.5em 0 0.5em; text-align: left; border: none;\">\n",
       "        GrLivArea\n",
       "    </td>\n",
       "    \n",
       "</tr>\n",
       "        \n",
       "            <tr style=\"background-color: hsl(120, 100.00%, 98.34%); border: none;\">\n",
       "    <td style=\"padding: 0 1em 0 0.5em; text-align: right; border: none;\">\n",
       "        +0.211\n",
       "    </td>\n",
       "    <td style=\"padding: 0 0.5em 0 0.5em; text-align: left; border: none;\">\n",
       "        1stFlrSF\n",
       "    </td>\n",
       "    \n",
       "</tr>\n",
       "        \n",
       "            <tr style=\"background-color: hsl(120, 100.00%, 98.93%); border: none;\">\n",
       "    <td style=\"padding: 0 1em 0 0.5em; text-align: right; border: none;\">\n",
       "        +0.112\n",
       "    </td>\n",
       "    <td style=\"padding: 0 0.5em 0 0.5em; text-align: left; border: none;\">\n",
       "        OverallQual\n",
       "    </td>\n",
       "    \n",
       "</tr>\n",
       "        \n",
       "            <tr style=\"background-color: hsl(120, 100.00%, 99.00%); border: none;\">\n",
       "    <td style=\"padding: 0 1em 0 0.5em; text-align: right; border: none;\">\n",
       "        +0.103\n",
       "    </td>\n",
       "    <td style=\"padding: 0 0.5em 0 0.5em; text-align: left; border: none;\">\n",
       "        ExterQual_Ex\n",
       "    </td>\n",
       "    \n",
       "</tr>\n",
       "        \n",
       "            <tr style=\"background-color: hsl(120, 100.00%, 99.16%); border: none;\">\n",
       "    <td style=\"padding: 0 1em 0 0.5em; text-align: right; border: none;\">\n",
       "        +0.080\n",
       "    </td>\n",
       "    <td style=\"padding: 0 0.5em 0 0.5em; text-align: left; border: none;\">\n",
       "        GarageCars\n",
       "    </td>\n",
       "    \n",
       "</tr>\n",
       "        \n",
       "            <tr style=\"background-color: hsl(120, 100.00%, 99.17%); border: none;\">\n",
       "    <td style=\"padding: 0 1em 0 0.5em; text-align: right; border: none;\">\n",
       "        +0.078\n",
       "    </td>\n",
       "    <td style=\"padding: 0 0.5em 0 0.5em; text-align: left; border: none;\">\n",
       "        ExterQual_Gd\n",
       "    </td>\n",
       "    \n",
       "</tr>\n",
       "        \n",
       "            <tr style=\"background-color: hsl(120, 100.00%, 99.99%); border: none;\">\n",
       "    <td style=\"padding: 0 1em 0 0.5em; text-align: right; border: none;\">\n",
       "        +0.000\n",
       "    </td>\n",
       "    <td style=\"padding: 0 0.5em 0 0.5em; text-align: left; border: none;\">\n",
       "        GarageArea\n",
       "    </td>\n",
       "    \n",
       "</tr>\n",
       "        \n",
       "        \n",
       "\n",
       "        \n",
       "        \n",
       "            <tr style=\"background-color: hsl(0, 100.00%, 99.79%); border: none;\">\n",
       "    <td style=\"padding: 0 1em 0 0.5em; text-align: right; border: none;\">\n",
       "        -0.011\n",
       "    </td>\n",
       "    <td style=\"padding: 0 0.5em 0 0.5em; text-align: left; border: none;\">\n",
       "        ExterQual_TA\n",
       "    </td>\n",
       "    \n",
       "</tr>\n",
       "        \n",
       "            <tr style=\"background-color: hsl(0, 100.00%, 98.57%); border: none;\">\n",
       "    <td style=\"padding: 0 1em 0 0.5em; text-align: right; border: none;\">\n",
       "        -0.170\n",
       "    </td>\n",
       "    <td style=\"padding: 0 0.5em 0 0.5em; text-align: left; border: none;\">\n",
       "        ExterQual_Fa\n",
       "    </td>\n",
       "    \n",
       "</tr>\n",
       "        \n",
       "\n",
       "        </tbody>\n",
       "    </table>\n",
       "\n",
       "            \n",
       "        \n",
       "\n",
       "        \n",
       "\n",
       "\n",
       "\n",
       "    \n",
       "\n",
       "    \n",
       "\n",
       "    \n",
       "\n",
       "    \n",
       "\n",
       "\n",
       "    \n",
       "\n",
       "    \n",
       "\n",
       "    \n",
       "\n",
       "    \n",
       "\n",
       "    \n",
       "\n",
       "    \n",
       "\n",
       "\n",
       "    \n",
       "\n",
       "    \n",
       "\n",
       "    \n",
       "\n",
       "    \n",
       "\n",
       "    \n",
       "\n",
       "    \n",
       "\n",
       "\n",
       "\n"
      ],
      "text/plain": [
       "Explanation(estimator='LinearRegression(copy_X=True, fit_intercept=True, n_jobs=None, normalize=False)', description=\"\\nFeatures with largest coefficients.\\nCaveats:\\n1. Be careful with features which are not\\n   independent - weights don't show their importance.\\n2. If scale of input features is different then scale of coefficients\\n   will also be different, making direct comparison between coefficient values\\n   incorrect.\\n3. Depending on regularization, rare features sometimes may have high\\n   coefficients; this doesn't mean they contribute much to the\\n   classification result for most examples.\\n\", error=None, method='linear model', is_regression=True, targets=[TargetExplanation(target='y', feature_weights=FeatureWeights(pos=[FeatureWeight(feature='<BIAS>', weight=7.375570406406652, std=None, value=None), FeatureWeight(feature='GrLivArea', weight=0.3153739523612508, std=None, value=None), FeatureWeight(feature='1stFlrSF', weight=0.21105313201466422, std=None, value=None), FeatureWeight(feature='OverallQual', weight=0.11196162539260159, std=None, value=None), FeatureWeight(feature='ExterQual_Ex', weight=0.10271229547458678, std=None, value=None), FeatureWeight(feature='GarageCars', weight=0.07970461776281756, std=None, value=None), FeatureWeight(feature='ExterQual_Gd', weight=0.07818511265478886, std=None, value=None), FeatureWeight(feature='GarageArea', weight=6.499393434306056e-05, std=None, value=None)], neg=[FeatureWeight(feature='ExterQual_Fa', weight=-0.17005219990232437, std=None, value=None), FeatureWeight(feature='ExterQual_TA', weight=-0.01084520822705138, std=None, value=None)], pos_remaining=0, neg_remaining=0), proba=None, score=None, weighted_spans=None, heatmap=None)], feature_importances=None, decision_tree=None, highlight_spaces=None, transition_features=None, image=None)"
      ]
     },
     "execution_count": 175,
     "metadata": {},
     "output_type": "execute_result"
    }
   ],
   "source": [
    "eli5.explain_weights(model_lr, feature_names=feature_name)"
   ]
  },
  {
   "cell_type": "code",
   "execution_count": 188,
   "metadata": {},
   "outputs": [
    {
     "data": {
      "image/png": "[encoded data removed]",
      "text/plain": [
       "<Figure size 576x396 with 2 Axes>"
      ]
     },
     "metadata": {},
     "output_type": "display_data"
    }
   ],
   "source": [
    "visualizer_residual = ResidualsPlot(model_lr)\n",
    "visualizer_residual.fit(X_train, y_train)\n",
    "visualizer_residual.score(X_test, y_test)\n",
    "visualizer_residual.finalize()\n",
    "plt.savefig('residual.jpg')"
   ]
  },
  {
   "cell_type": "markdown",
   "metadata": {},
   "source": [
    "### Ridge Regression"
   ]
  },
  {
   "cell_type": "code",
   "execution_count": 64,
   "metadata": {},
   "outputs": [
    {
     "data": {
      "text/plain": [
       "0.012769967687894774"
      ]
     },
     "execution_count": 64,
     "metadata": {},
     "output_type": "execute_result"
    }
   ],
   "source": [
    "model_ridge = Ridge(alpha=0.7)\n",
    "model_ridge.fit(X_train, y_train)\n",
    "prediction = model_ridge.predict(X_test)\n",
    "np.sqrt(mean_squared_error(y_test, prediction))"
   ]
  },
  {
   "cell_type": "markdown",
   "metadata": {},
   "source": [
    "### Lasso Regression"
   ]
  },
  {
   "cell_type": "code",
   "execution_count": 69,
   "metadata": {},
   "outputs": [
    {
     "data": {
      "text/plain": [
       "0.03139521720634809"
      ]
     },
     "execution_count": 69,
     "metadata": {},
     "output_type": "execute_result"
    }
   ],
   "source": [
    "model_ridge = Lasso(alpha=0.1)\n",
    "model_ridge.fit(X_train, y_train)\n",
    "prediction = model_ridge.predict(X_test)\n",
    "np.sqrt(mean_squared_error(y_test, prediction))"
   ]
  }
 ],
 "metadata": {
  "kernelspec": {
   "display_name": "Python 3",
   "language": "python",
   "name": "python3"
  },
  "language_info": {
   "codemirror_mode": {
    "name": "ipython",
    "version": 3
   },
   "file_extension": ".py",
   "mimetype": "text/x-python",
   "name": "python",
   "nbconvert_exporter": "python",
   "pygments_lexer": "ipython3",
   "version": "3.7.3"
  },
  "toc": {
   "base_numbering": 1,
   "nav_menu": {},
   "number_sections": true,
   "sideBar": true,
   "skip_h1_title": false,
   "title_cell": "Table of Contents",
   "title_sidebar": "Contents",
   "toc_cell": false,
   "toc_position": {},
   "toc_section_display": true,
   "toc_window_display": false
  }
 },
 "nbformat": 4,
 "nbformat_minor": 2
}
