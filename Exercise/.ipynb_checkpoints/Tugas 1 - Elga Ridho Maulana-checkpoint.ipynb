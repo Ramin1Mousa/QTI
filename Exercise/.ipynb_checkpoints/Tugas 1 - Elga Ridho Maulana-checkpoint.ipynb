{
 "cells": [
  {
   "cell_type": "markdown",
   "metadata": {},
   "source": [
    "# Euclidian Distance\n",
    "\n",
    "Misalkan $x_{1}, x_{2} \\in \\mathbb{R}$ adalah dua buah titik pada ruang berdimensi $n$, maka jarak Euclidean antara kedua titik tersebut pada koordinat kartesius adalah sebagai berikut:\n",
    "\n",
    "$$d(x_{1}, x_{2}) = \\sqrt{(x_{11}-x_{21})^{2} + (x_{12}-x_{22})^2 + ... + (x_{1n} - x_{2n})^{2}}$$\n",
    "\n",
    "Buatlah sebuah fungsi yang bisa menghitung jarak dari dua buah titik tersebut dengan input sebagai list dan berlaku untuk dimensi apapun.\n",
    "\n",
    "Contoh:\n",
    "\n",
    "```python\n",
    "jarak_euclidean(x1=[1,2,3],x2=[3,2,1])\n",
    "\n",
    "# output: 2.8284271247461903\n",
    "\n",
    "jarak_euclidean(x1=[1,2,3,4],x2=[4,3,2,1])\n",
    "\n",
    "# output: 4.47213595499958\n",
    "\n",
    "jarak_euclidean(x1=[1,2,3,4],x2=[4,3,2])\n",
    "\n",
    "# output: \"error, panjang vektor tidak sama\"\n",
    "\n",
    "```\n",
    "\n",
    "Catatan: Tidak boleh menggunakan package atau module apapun, hanya menggunakan plain Python.\n"
   ]
  },
  {
   "cell_type": "code",
   "execution_count": 4,
   "metadata": {},
   "outputs": [],
   "source": [
    "def jarak_euclidean(x1, x2):\n",
    "    if len(x1) != len(x2):\n",
    "        return 'error, panjang vektor tidak sama'\n",
    "    else:\n",
    "        ls = []\n",
    "        for i in range(len(x1)):\n",
    "            hitung = (x1[i] - x2[i]) ** 2\n",
    "            ls.append(hitung)\n",
    "        hasil = sum(ls) ** 0.5\n",
    "        return hasil"
   ]
  },
  {
   "cell_type": "code",
   "execution_count": 5,
   "metadata": {},
   "outputs": [
    {
     "data": {
      "text/plain": [
       "4.47213595499958"
      ]
     },
     "execution_count": 5,
     "metadata": {},
     "output_type": "execute_result"
    }
   ],
   "source": [
    "jarak_euclidean(x1=[1,2,3,4],x2=[4,3,2,1])"
   ]
  },
  {
   "cell_type": "code",
   "execution_count": 6,
   "metadata": {},
   "outputs": [
    {
     "data": {
      "text/plain": [
       "2.8284271247461903"
      ]
     },
     "execution_count": 6,
     "metadata": {},
     "output_type": "execute_result"
    }
   ],
   "source": [
    "jarak_euclidean(x1=[1,2,3],x2=[3,2,1])"
   ]
  },
  {
   "cell_type": "code",
   "execution_count": 7,
   "metadata": {},
   "outputs": [
    {
     "data": {
      "text/plain": [
       "'error, panjang vektor tidak sama'"
      ]
     },
     "execution_count": 7,
     "metadata": {},
     "output_type": "execute_result"
    }
   ],
   "source": [
    "jarak_euclidean(x1=[1,2,3,4],x2=[4,3,2])"
   ]
  },
  {
   "cell_type": "markdown",
   "metadata": {},
   "source": [
    "# Pearson Correlation\n",
    "\n",
    "Misalkan diberikan dua buah field data yaitu ```tinggi_badan``` dan ```berat_badan```. Kita ingin menghitung korelasi antara kedua field ini dengan menggunakan korelasi pearson, dimana:\n",
    "\n",
    "$$r_{xy} = \\frac{\\Sigma^{n}_{i=1}(x_{i}-\\bar{x})(y_{i}-\\bar{y})}{\\sqrt{\\Sigma^{n}_{i=1}(x_{i}-\\bar{x})^{2}}\\sqrt{\\Sigma^{n}_{i=1}(y_{i}-\\bar{y})^{2}}}$$\n",
    "\n",
    "dengan:\n",
    "\n",
    "- $n$ adalah ukuran sampel\n",
    "- $x_{i}, y_{i}$ adalah titik sampel untuk $x$ dan $y$\n",
    "- $\\bar{x}, \\bar{y}$ adalah rerata dari $x$ dan $y$\n",
    "\n",
    "Buatlah sebuah fungsi yang dapat menerima input berupa list data sehingga diperoleh nilai korelasi pearson.\n",
    "\n",
    "Contoh:\n",
    "\n",
    "```python\n",
    "tinggi_badan = [150,145,175,165]\n",
    "berat_badan = [60,75,80,80]\n",
    "korelasi_pearson(x=tinggi_badan, y=berat_badan)\n",
    "\n",
    "# output: 0.6234616\n",
    "```\n",
    "\n",
    "Note: Hanya boleh menggunakan [built-in module Python](https://docs.python.org/3/library/index.html)."
   ]
  },
  {
   "cell_type": "code",
   "execution_count": 1,
   "metadata": {},
   "outputs": [],
   "source": [
    "def korelasi_pearson(x, y):\n",
    "    if len(x) != len(y):\n",
    "        return 'jumlah data tinggi badan dan berat badan harus sama!'\n",
    "    else:\n",
    "        n = len(x)\n",
    "        mean_x = sum(x) / n\n",
    "        mean_y = sum(y) / n\n",
    "        \n",
    "        ls_kali_beda = []\n",
    "        ls_beda_x_kuadrat = []\n",
    "        ls_beda_y_kuadrat = []\n",
    "        \n",
    "        for i in range(n):\n",
    "            beda_x = mean_x - x[i]\n",
    "            beda_y = mean_y - y[i]\n",
    "            \n",
    "            ls_kali_beda.append(beda_x * beda_y)\n",
    "            ls_beda_x_kuadrat.append(beda_x ** 2)\n",
    "            ls_beda_y_kuadrat.append(beda_y ** 2)\n",
    "            \n",
    "    pembilang = sum(ls_kali_beda)\n",
    "    penyebut = (sum(ls_beda_x_kuadrat) ** 0.5)  * (sum(ls_beda_y_kuadrat) ** 0.5)\n",
    "    return round((pembilang / penyebut), 7)"
   ]
  },
  {
   "cell_type": "code",
   "execution_count": 2,
   "metadata": {},
   "outputs": [
    {
     "data": {
      "text/plain": [
       "0.6234616"
      ]
     },
     "execution_count": 2,
     "metadata": {},
     "output_type": "execute_result"
    }
   ],
   "source": [
    "tinggi_badan = [150,145,175,165]\n",
    "berat_badan = [60,75,80,80]\n",
    "korelasi_pearson(x=tinggi_badan, y=berat_badan)"
   ]
  },
  {
   "cell_type": "code",
   "execution_count": 4,
   "metadata": {},
   "outputs": [
    {
     "data": {
      "text/plain": [
       "'jumlah data tinggi badan dan berat badan harus sama!'"
      ]
     },
     "execution_count": 4,
     "metadata": {},
     "output_type": "execute_result"
    }
   ],
   "source": [
    "tinggi_badan = [155,145,178,172,190]\n",
    "berat_badan = [61,71,90,84]\n",
    "korelasi_pearson(x=tinggi_badan, y=berat_badan)"
   ]
  },
  {
   "cell_type": "code",
   "execution_count": 43,
   "metadata": {},
   "outputs": [
    {
     "data": {
      "text/plain": [
       "0.8300827919510421"
      ]
     },
     "execution_count": 43,
     "metadata": {},
     "output_type": "execute_result"
    }
   ],
   "source": [
    "np.corrcoef([155,145,178,172], [61,71,90,84])[0][1]"
   ]
  }
 ],
 "metadata": {
  "kernelspec": {
   "display_name": "Python 3",
   "language": "python",
   "name": "python3"
  },
  "language_info": {
   "codemirror_mode": {
    "name": "ipython",
    "version": 3
   },
   "file_extension": ".py",
   "mimetype": "text/x-python",
   "name": "python",
   "nbconvert_exporter": "python",
   "pygments_lexer": "ipython3",
   "version": "3.7.3"
  },
  "toc": {
   "base_numbering": 1,
   "nav_menu": {},
   "number_sections": true,
   "sideBar": true,
   "skip_h1_title": false,
   "title_cell": "Table of Contents",
   "title_sidebar": "Contents",
   "toc_cell": false,
   "toc_position": {},
   "toc_section_display": true,
   "toc_window_display": false
  }
 },
 "nbformat": 4,
 "nbformat_minor": 2
}
