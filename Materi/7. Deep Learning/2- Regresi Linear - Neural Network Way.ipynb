{
 "cells": [
  {
   "cell_type": "markdown",
   "metadata": {},
   "source": [
    "# Regresi Linear - Neural Network Way\n",
    "\n",
    "![Meme3](./images/meme3.png)\n",
    "\n",
    "Sumber: https://knowyourmeme.com/photos/1507130-virgin-vs-chad"
   ]
  },
  {
   "cell_type": "markdown",
   "metadata": {},
   "source": [
    "Untuk mendalami cara kerja model neural network lebih lanjut, maka kita akan mulai dari model yang paling sederhana, yakni model regresi linear dengan menggunakan framework ```keras```."
   ]
  },
  {
   "cell_type": "code",
   "execution_count": 1,
   "metadata": {},
   "outputs": [
    {
     "name": "stderr",
     "output_type": "stream",
     "text": [
      "Using TensorFlow backend.\n"
     ]
    }
   ],
   "source": [
    "# load library\n",
    "\n",
    "from keras.models import Sequential\n",
    "from keras.layers import Dense\n",
    "from keras.optimizers import SGD\n",
    "\n",
    "import numpy as np\n",
    "import matplotlib.pyplot as plt"
   ]
  },
  {
   "cell_type": "markdown",
   "metadata": {},
   "source": [
    "Selanjutnya kita akan membangkitkan dataset untuk simulasi menggunakan ```numpy```"
   ]
  },
  {
   "cell_type": "code",
   "execution_count": 2,
   "metadata": {},
   "outputs": [],
   "source": [
    "# membuat seeding\n",
    "np.random.seed(1000)\n",
    "nilai_X = np.linspace(-1, 1, 1000)\n",
    "nilai_Y = 2.5 * nilai_X + np.random.randn(nilai_X.shape[0]) * 0.33 # create a y value which is approximately linear but with some random noise"
   ]
  },
  {
   "cell_type": "markdown",
   "metadata": {},
   "source": [
    "Berikut merupakan plot dari fungsi diatas."
   ]
  },
  {
   "cell_type": "code",
   "execution_count": 3,
   "metadata": {},
   "outputs": [
    {
     "data": {
      "image/png": "[encoded data removed]",
      "text/plain": [
       "<Figure size 432x288 with 1 Axes>"
      ]
     },
     "metadata": {
      "needs_background": "light"
     },
     "output_type": "display_data"
    }
   ],
   "source": [
    "plt.plot(nilai_X, nilai_Y, 'o')\n",
    "plt.show()"
   ]
  },
  {
   "cell_type": "markdown",
   "metadata": {},
   "source": [
    "Selanjutnya kita akan membuat model regresi linear menggunakan ```keras```."
   ]
  },
  {
   "cell_type": "code",
   "execution_count": 4,
   "metadata": {},
   "outputs": [],
   "source": [
    "model = Sequential()\n",
    "model.add(Dense(input_dim=1, units=1, kernel_initializer='uniform', activation='linear'))\n",
    "sgd = SGD(learning_rate=0.01)\n",
    "model.compile(optimizer=sgd, loss='mse')"
   ]
  },
  {
   "cell_type": "markdown",
   "metadata": {},
   "source": [
    "## Penjelasan\n",
    "\n",
    "- Sintaks ```model = Sequential()``` berfungsi untuk inisiasi model *sequential*. Model sequential merupakan model paling dasar yang dapat dibangun oleh ```keras```. Dengan model sequential, kita dapat membuat banyak layer untuk model neural network dengan sangat mudah.\n",
    "\n",
    "- Sintaks ```model.add()``` berfungsi untuk menambah layer pada model sequential. Kita dapat menambahkan layer dengan jenis yang berbeda sesuai kebutuhan, dalam contoh kali ini kita menggunakan fungsi ```Dense```.\n",
    "\n",
    "- Sintaks ```Dense``` berfungsi untuk menambah layer yang terdiri dari n input dan m output/units. Dalam contoh kali ini kita hanya memasukkan input_dim=1 karena model hanya terdiri dari 1 variabel input saja, sedangkan units=1 dikarenakan kita hanya menghasilkan 1 output saja. ```kernel_initializer``` berfungsi untuk inisiasi nilai weight pada layer ini, pada contoh kali ini kita menggunakan distribusi uniform untuk membangkitkan nilai weight. ```kernel_initializer``` lainnya dapat dilihat di https://keras.io/initializers/. Selanjutnya ```activation``` berfungsi untuk menentukan fungsi aktivasi yang dipakai, dalam hal ini kita menggunakan ```linear```. Beberapa fungsi aktivasi yang dapat dipilih dapat dilihat di https://keras.io/activations/.\n",
    "\n",
    "- Sintaks ```SGD``` berfungsi untuk membuat *stochastic gradient descent optimizers* yang digunakan untuk optimasi model neural network. Optimizer lainnya dapat dilihat di https://keras.io/optimizers/.\n",
    "\n",
    "- sintaks ```model.compile``` berfungsi untuk membuat model menjadi siap pakai untuk pemodelan dengan menentukan ```optimizer``` dan ```loss``` yang digunakan. Pada model ini kita menggunakan ```sgd``` sebagai optimizer yaitu metode *stochastic gradient descent*, sedangkan untuk menghitung loss atau error kita menggunakan ```mse``` atau *mean-squared error*."
   ]
  },
  {
   "cell_type": "markdown",
   "metadata": {},
   "source": [
    "---"
   ]
  },
  {
   "cell_type": "markdown",
   "metadata": {},
   "source": [
    "## Stochastic Gradient Descent\n",
    "\n",
    "Stochastic Gradient Descent adalah salah satu metode pencarian solusi optimal yang menggunakan konsep gradient untuk mencari solusi. Biasanya, solusi dapat dicari hanya dengan metode gradient descent, yaitu dengan memilih titik awal $w_0$, lalu menghitung arah dengan cara menghitung nilai gradient pada titik tersebut.\n",
    "\n",
    "![Gradient Descent](./images/gradient-descent.jpeg)\n",
    "\n",
    "Sumber: http://shivammehta.me/blog/category/mathematics/linear-algebra/\n",
    "\n",
    "Kecepatan learning dari model neural network juga bergantung pada seberapa besar learning rate yang digunakan dalam model. Semakin kecil nilai learning rate maka semakin lama pula model memperoleh solusi optimal, namun hasilnya kemungkinan besar optimal, ketimbang dengan menggunakan learning rate yang besar.\n",
    "\n",
    "![Learning Rate](./images/learning_rate.jpg)\n",
    "\n",
    "Sumber: https://medium.com/@montjoile/an-introduction-to-gradient-descent-algorithm-34cf3cee752b\n",
    "\n",
    "Untuk data yang jumlahnya tidak terlalu banyak, tidak akan terlalu menjadi masalah karena pencarian solusinya cukup cepat hanya dengan mengandalkan gradient descent, namun jika data yang diolah terlalu besar, maka perlu metode lain yang digunakan untuk pencarian solusi optimal, yakni dengan hanya mengambil 1 contoh dari sekian banyak untuk dilatih per iterasinya yang disebut sebagai metode *stochastic gradient descent*.\n",
    "\n",
    "![Gradient vs Stochastic](./images/gradient_vs_stochastic.png)\n",
    "\n",
    "Sumber: https://engmrk.com/mini-batch-gd/\n"
   ]
  },
  {
   "cell_type": "markdown",
   "metadata": {},
   "source": [
    "## Global Optima vs Local Optima\n",
    "\n",
    "Solusi dari suatu fungsi terkadang tidak hanya 1, tapi bisa jadi lebih. Hal ini bisa jadi dikarenakan dimensi dari data yang begitu besar atau inkonsistensi pada data dan sebab lainnya. \n",
    "\n",
    "![Local vs Global Optima](./images/local_vs_global.png)\n",
    "\n",
    "Mengapa kita perlu tahu apa itu local dan global optima? Karena solusi yang diperoleh oleh model neural network yang dibuat belum tentu optimal, apalagi jika terdapat banyak sekali local optima pada data sehingga pencarian solusi global menjadi sangat sulit. Hal ini juga yang menyebabkan penentuan pencari solusi optimal dan learning rate menjadi sangat penting."
   ]
  },
  {
   "cell_type": "markdown",
   "metadata": {},
   "source": [
    "---"
   ]
  },
  {
   "cell_type": "markdown",
   "metadata": {},
   "source": [
    "**Model Fitting**"
   ]
  },
  {
   "cell_type": "code",
   "execution_count": 5,
   "metadata": {},
   "outputs": [
    {
     "name": "stdout",
     "output_type": "stream",
     "text": [
      "Epoch 1/100\n",
      "1000/1000 [==============================] - 0s 212us/step - loss: 1.8218\n",
      "Epoch 2/100\n",
      "1000/1000 [==============================] - 0s 68us/step - loss: 1.2165\n",
      "Epoch 3/100\n",
      "1000/1000 [==============================] - 0s 67us/step - loss: 0.8268\n",
      "Epoch 4/100\n",
      "1000/1000 [==============================] - 0s 70us/step - loss: 0.5749\n",
      "Epoch 5/100\n",
      "1000/1000 [==============================] - 0s 76us/step - loss: 0.4108\n",
      "Epoch 6/100\n",
      "1000/1000 [==============================] - 0s 90us/step - loss: 0.3069\n",
      "Epoch 7/100\n",
      "1000/1000 [==============================] - 0s 119us/step - loss: 0.2372\n",
      "Epoch 8/100\n",
      "1000/1000 [==============================] - 0s 110us/step - loss: 0.1925\n",
      "Epoch 9/100\n",
      "1000/1000 [==============================] - 0s 99us/step - loss: 0.1631\n",
      "Epoch 10/100\n",
      "1000/1000 [==============================] - 0s 89us/step - loss: 0.1441\n",
      "Epoch 11/100\n",
      "1000/1000 [==============================] - 0s 76us/step - loss: 0.1319\n",
      "Epoch 12/100\n",
      "1000/1000 [==============================] - 0s 77us/step - loss: 0.1239\n",
      "Epoch 13/100\n",
      "1000/1000 [==============================] - 0s 91us/step - loss: 0.1185\n",
      "Epoch 14/100\n",
      "1000/1000 [==============================] - 0s 101us/step - loss: 0.1151\n",
      "Epoch 15/100\n",
      "1000/1000 [==============================] - 0s 95us/step - loss: 0.1128\n",
      "Epoch 16/100\n",
      "1000/1000 [==============================] - 0s 90us/step - loss: 0.1113\n",
      "Epoch 17/100\n",
      "1000/1000 [==============================] - 0s 74us/step - loss: 0.1104\n",
      "Epoch 18/100\n",
      "1000/1000 [==============================] - 0s 82us/step - loss: 0.1099\n",
      "Epoch 19/100\n",
      "1000/1000 [==============================] - 0s 76us/step - loss: 0.1095\n",
      "Epoch 20/100\n",
      "1000/1000 [==============================] - 0s 71us/step - loss: 0.1093\n",
      "Epoch 21/100\n",
      "1000/1000 [==============================] - 0s 61us/step - loss: 0.1091\n",
      "Epoch 22/100\n",
      "1000/1000 [==============================] - 0s 63us/step - loss: 0.1090\n",
      "Epoch 23/100\n",
      "1000/1000 [==============================] - 0s 63us/step - loss: 0.1089\n",
      "Epoch 24/100\n",
      "1000/1000 [==============================] - 0s 70us/step - loss: 0.1089\n",
      "Epoch 25/100\n",
      "1000/1000 [==============================] - 0s 61us/step - loss: 0.1088\n",
      "Epoch 26/100\n",
      "1000/1000 [==============================] - 0s 58us/step - loss: 0.1089\n",
      "Epoch 27/100\n",
      "1000/1000 [==============================] - 0s 66us/step - loss: 0.1088\n",
      "Epoch 28/100\n",
      "1000/1000 [==============================] - 0s 64us/step - loss: 0.1088\n",
      "Epoch 29/100\n",
      "1000/1000 [==============================] - 0s 68us/step - loss: 0.1088\n",
      "Epoch 30/100\n",
      "1000/1000 [==============================] - 0s 76us/step - loss: 0.1088\n",
      "Epoch 31/100\n",
      "1000/1000 [==============================] - 0s 77us/step - loss: 0.1089\n",
      "Epoch 32/100\n",
      "1000/1000 [==============================] - 0s 82us/step - loss: 0.1088\n",
      "Epoch 33/100\n",
      "1000/1000 [==============================] - 0s 67us/step - loss: 0.1088\n",
      "Epoch 34/100\n",
      "1000/1000 [==============================] - 0s 86us/step - loss: 0.1088\n",
      "Epoch 35/100\n",
      "1000/1000 [==============================] - 0s 65us/step - loss: 0.1089\n",
      "Epoch 36/100\n",
      "1000/1000 [==============================] - 0s 65us/step - loss: 0.1088\n",
      "Epoch 37/100\n",
      "1000/1000 [==============================] - 0s 65us/step - loss: 0.1088\n",
      "Epoch 38/100\n",
      "1000/1000 [==============================] - 0s 68us/step - loss: 0.1089\n",
      "Epoch 39/100\n",
      "1000/1000 [==============================] - 0s 90us/step - loss: 0.1088\n",
      "Epoch 40/100\n",
      "1000/1000 [==============================] - 0s 92us/step - loss: 0.1088\n",
      "Epoch 41/100\n",
      "1000/1000 [==============================] - 0s 107us/step - loss: 0.1089\n",
      "Epoch 42/100\n",
      "1000/1000 [==============================] - 0s 88us/step - loss: 0.1088\n",
      "Epoch 43/100\n",
      "1000/1000 [==============================] - 0s 68us/step - loss: 0.1088\n",
      "Epoch 44/100\n",
      "1000/1000 [==============================] - 0s 70us/step - loss: 0.1088\n",
      "Epoch 45/100\n",
      "1000/1000 [==============================] - 0s 67us/step - loss: 0.1088\n",
      "Epoch 46/100\n",
      "1000/1000 [==============================] - 0s 70us/step - loss: 0.1088\n",
      "Epoch 47/100\n",
      "1000/1000 [==============================] - 0s 63us/step - loss: 0.1088\n",
      "Epoch 48/100\n",
      "1000/1000 [==============================] - 0s 71us/step - loss: 0.1088\n",
      "Epoch 49/100\n",
      "1000/1000 [==============================] - 0s 67us/step - loss: 0.1089\n",
      "Epoch 50/100\n",
      "1000/1000 [==============================] - 0s 70us/step - loss: 0.1088\n",
      "Epoch 51/100\n",
      "1000/1000 [==============================] - 0s 70us/step - loss: 0.1088\n",
      "Epoch 52/100\n",
      "1000/1000 [==============================] - 0s 72us/step - loss: 0.1089\n",
      "Epoch 53/100\n",
      "1000/1000 [==============================] - 0s 63us/step - loss: 0.1088\n",
      "Epoch 54/100\n",
      "1000/1000 [==============================] - 0s 65us/step - loss: 0.1088\n",
      "Epoch 55/100\n",
      "1000/1000 [==============================] - 0s 52us/step - loss: 0.1088\n",
      "Epoch 56/100\n",
      "1000/1000 [==============================] - 0s 51us/step - loss: 0.1088\n",
      "Epoch 57/100\n",
      "1000/1000 [==============================] - 0s 50us/step - loss: 0.1088\n",
      "Epoch 58/100\n",
      "1000/1000 [==============================] - 0s 57us/step - loss: 0.1088\n",
      "Epoch 59/100\n",
      "1000/1000 [==============================] - 0s 57us/step - loss: 0.1088\n",
      "Epoch 60/100\n",
      "1000/1000 [==============================] - 0s 63us/step - loss: 0.1088\n",
      "Epoch 61/100\n",
      "1000/1000 [==============================] - 0s 64us/step - loss: 0.1089\n",
      "Epoch 62/100\n",
      "1000/1000 [==============================] - 0s 53us/step - loss: 0.1088\n",
      "Epoch 63/100\n",
      "1000/1000 [==============================] - 0s 57us/step - loss: 0.1088\n",
      "Epoch 64/100\n",
      "1000/1000 [==============================] - 0s 52us/step - loss: 0.1088\n",
      "Epoch 65/100\n",
      "1000/1000 [==============================] - 0s 52us/step - loss: 0.1088\n",
      "Epoch 66/100\n",
      "1000/1000 [==============================] - 0s 49us/step - loss: 0.1088\n",
      "Epoch 67/100\n",
      "1000/1000 [==============================] - 0s 50us/step - loss: 0.1088\n",
      "Epoch 68/100\n",
      "1000/1000 [==============================] - 0s 48us/step - loss: 0.1088\n",
      "Epoch 69/100\n",
      "1000/1000 [==============================] - 0s 54us/step - loss: 0.1088\n",
      "Epoch 70/100\n",
      "1000/1000 [==============================] - 0s 49us/step - loss: 0.1088\n",
      "Epoch 71/100\n",
      "1000/1000 [==============================] - 0s 52us/step - loss: 0.1088\n",
      "Epoch 72/100\n",
      "1000/1000 [==============================] - 0s 54us/step - loss: 0.1088\n",
      "Epoch 73/100\n",
      "1000/1000 [==============================] - 0s 52us/step - loss: 0.1088\n",
      "Epoch 74/100\n",
      "1000/1000 [==============================] - 0s 60us/step - loss: 0.1088\n",
      "Epoch 75/100\n",
      "1000/1000 [==============================] - 0s 53us/step - loss: 0.1088\n",
      "Epoch 76/100\n",
      "1000/1000 [==============================] - 0s 53us/step - loss: 0.1088\n",
      "Epoch 77/100\n",
      "1000/1000 [==============================] - 0s 61us/step - loss: 0.1088\n",
      "Epoch 78/100\n",
      "1000/1000 [==============================] - 0s 63us/step - loss: 0.1088: 0s - loss: 0.107\n",
      "Epoch 79/100\n",
      "1000/1000 [==============================] - 0s 55us/step - loss: 0.1088\n",
      "Epoch 80/100\n",
      "1000/1000 [==============================] - 0s 60us/step - loss: 0.1088\n",
      "Epoch 81/100\n",
      "1000/1000 [==============================] - 0s 64us/step - loss: 0.1088\n",
      "Epoch 82/100\n",
      "1000/1000 [==============================] - 0s 49us/step - loss: 0.1088\n",
      "Epoch 83/100\n",
      "1000/1000 [==============================] - 0s 60us/step - loss: 0.1088\n",
      "Epoch 84/100\n",
      "1000/1000 [==============================] - 0s 62us/step - loss: 0.1088\n",
      "Epoch 85/100\n",
      "1000/1000 [==============================] - 0s 52us/step - loss: 0.1089\n",
      "Epoch 86/100\n",
      "1000/1000 [==============================] - 0s 53us/step - loss: 0.1088\n",
      "Epoch 87/100\n",
      "1000/1000 [==============================] - 0s 54us/step - loss: 0.1088\n",
      "Epoch 88/100\n",
      "1000/1000 [==============================] - 0s 61us/step - loss: 0.1088\n",
      "Epoch 89/100\n",
      "1000/1000 [==============================] - 0s 62us/step - loss: 0.1088\n",
      "Epoch 90/100\n",
      "1000/1000 [==============================] - 0s 55us/step - loss: 0.1089\n",
      "Epoch 91/100\n",
      "1000/1000 [==============================] - 0s 61us/step - loss: 0.1088\n",
      "Epoch 92/100\n",
      "1000/1000 [==============================] - 0s 58us/step - loss: 0.1088\n",
      "Epoch 93/100\n",
      "1000/1000 [==============================] - 0s 60us/step - loss: 0.1088\n",
      "Epoch 94/100\n",
      "1000/1000 [==============================] - 0s 59us/step - loss: 0.1088\n",
      "Epoch 95/100\n",
      "1000/1000 [==============================] - 0s 58us/step - loss: 0.1089\n",
      "Epoch 96/100\n"
     ]
    },
    {
     "name": "stdout",
     "output_type": "stream",
     "text": [
      "1000/1000 [==============================] - 0s 54us/step - loss: 0.1088\n",
      "Epoch 97/100\n",
      "1000/1000 [==============================] - 0s 52us/step - loss: 0.1088\n",
      "Epoch 98/100\n",
      "1000/1000 [==============================] - 0s 51us/step - loss: 0.1088\n",
      "Epoch 99/100\n",
      "1000/1000 [==============================] - 0s 47us/step - loss: 0.1088\n",
      "Epoch 100/100\n",
      "1000/1000 [==============================] - 0s 52us/step - loss: 0.1088\n"
     ]
    },
    {
     "data": {
      "text/plain": [
       "<keras.callbacks.callbacks.History at 0x21aa35c1dc8>"
      ]
     },
     "execution_count": 5,
     "metadata": {},
     "output_type": "execute_result"
    }
   ],
   "source": [
    "model.fit(nilai_X, nilai_Y, epochs=100)"
   ]
  },
  {
   "cell_type": "markdown",
   "metadata": {},
   "source": [
    "## Backpropagation\n",
    "\n",
    "Model diatas bekerja dengan cara melakukan propagasi balik atau yang biasa disebut juga sebagai backpropagation. Proses ini terdiri dari dua proses: forward-pass dan backward-pass.\n",
    "\n",
    "Cara kerja dari proses backpropagation dapat dilihat pada ilustrasi berikut ini:\n",
    "\n",
    "![Backprop](./images/backprop2.gif)\n",
    "\n",
    "Sumber: https://mc.ai/introduction-to-neural-networks%E2%80%8A-%E2%80%8Apart-2/"
   ]
  },
  {
   "cell_type": "markdown",
   "metadata": {},
   "source": [
    "---"
   ]
  },
  {
   "cell_type": "markdown",
   "metadata": {},
   "source": [
    "Melihat nilai weight."
   ]
  },
  {
   "cell_type": "code",
   "execution_count": 6,
   "metadata": {},
   "outputs": [
    {
     "name": "stdout",
     "output_type": "stream",
     "text": [
      "Diperoleh nilai weight dari model w: 2.51223,  sedangkan nilai biasnya b: -0.00494\n"
     ]
    }
   ],
   "source": [
    "weights = model.layers[0].get_weights()\n",
    "w = weights[0][0][0]\n",
    "b = weights[1][0]\n",
    "\n",
    "print(\"Diperoleh nilai weight dari model w: %.5f,  sedangkan nilai biasnya b: %.5f\" %(w,b))"
   ]
  },
  {
   "cell_type": "markdown",
   "metadata": {},
   "source": [
    "Selanjutnya kita coba membuat nilai prediksi dari ```nilai_X```."
   ]
  },
  {
   "cell_type": "code",
   "execution_count": 7,
   "metadata": {},
   "outputs": [],
   "source": [
    "nilai_Y_baru = model.predict(nilai_X)\n",
    "nilai_Y_baru = nilai_Y_baru.reshape(nilai_Y.shape[0],)"
   ]
  },
  {
   "cell_type": "markdown",
   "metadata": {},
   "source": [
    "Selanjutnya melakukan plotting untuk nilai_Y dan nilai_Y_baru hasil prediksi dari model."
   ]
  },
  {
   "cell_type": "code",
   "execution_count": 8,
   "metadata": {
    "scrolled": true
   },
   "outputs": [
    {
     "data": {
      "image/png": "[encoded data removed]",
      "text/plain": [
       "<Figure size 432x288 with 1 Axes>"
      ]
     },
     "metadata": {
      "needs_background": "light"
     },
     "output_type": "display_data"
    }
   ],
   "source": [
    "plt.plot(nilai_X, nilai_Y, 'o')\n",
    "plt.plot(nilai_X, nilai_Y_baru, '-b')\n",
    "plt.show()"
   ]
  },
  {
   "cell_type": "markdown",
   "metadata": {},
   "source": [
    "# Latihan\n",
    "\n",
    "Gunakan data dari House Price (https://www.kaggle.com/c/house-prices-advanced-regression-techniques) yang pernah digunakan sebelumnya, gunakan model perceptron untuk mendapat hasil prediksinya lalu submit hasilnya."
   ]
  },
  {
   "cell_type": "code",
   "execution_count": null,
   "metadata": {},
   "outputs": [],
   "source": []
  }
 ],
 "metadata": {
  "kernelspec": {
   "display_name": "Python 3",
   "language": "python",
   "name": "python3"
  },
  "language_info": {
   "codemirror_mode": {
    "name": "ipython",
    "version": 3
   },
   "file_extension": ".py",
   "mimetype": "text/x-python",
   "name": "python",
   "nbconvert_exporter": "python",
   "pygments_lexer": "ipython3",
   "version": "3.7.5"
  },
  "toc": {
   "base_numbering": 1,
   "nav_menu": {},
   "number_sections": true,
   "sideBar": true,
   "skip_h1_title": false,
   "title_cell": "Table of Contents",
   "title_sidebar": "Contents",
   "toc_cell": false,
   "toc_position": {},
   "toc_section_display": true,
   "toc_window_display": false
  }
 },
 "nbformat": 4,
 "nbformat_minor": 4
}
