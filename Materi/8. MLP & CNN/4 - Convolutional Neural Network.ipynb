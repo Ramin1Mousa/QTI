{
 "cells": [
  {
   "cell_type": "markdown",
   "metadata": {},
   "source": [
    "# Convolutional Neural Network\n",
    "\n",
    "Convolutional neural network adalah salah satu arsitektur NN yang biasanya dipakai untuk melakukan deteksi objek pada gambar. CNN terdiri dari dua layer khusus, yaitu *convolutional layer* dan *pooling layer*.\n",
    "\n",
    "*Convolutional layer* berfungsi untuk melakukan ekstraksi fitur dengan cara melakukan proses *filtering*. Pada proses filtering ini, filter akan bergeser ke seluruh gambar yang pergeserannya ditentukan oleh dua operasi yakni *stride* dan *padding* sambil menjalankan operasi *dot product*.\n",
    "\n",
    "![CNN Works](./images/cnn_works.gif)\n",
    "\n",
    "Terdapat beberapa langkah yang biasanya perlu dilewati untuk membuat arsitektur CNN, diantaranya:\n",
    "\n",
    "1. Bagian Konvolusi\n",
    "2. Pooling\n",
    "3. Flattening\n",
    "4. Full Connection"
   ]
  },
  {
   "cell_type": "markdown",
   "metadata": {},
   "source": [
    "## Stride & Padding\n",
    "\n",
    "*Stride* adalah operasi yang menentukan seberapa banyak pergeseran dilakukan.\n",
    "\n",
    "*Padding* adalah operasi yang berfungsi menambahkan dimensi pada input sehingga kita dapat memperoleh ukuran output yang sama atau tidak terlalu kecil dari inputnya. \n",
    "\n",
    "![Stride Padding Works](./images/stride_padding_1.gif)\n",
    "\n",
    "Dimensi output dari hasil filtering ini dengan adanya padding adalah sebagai berikut:\n",
    "\n",
    "$$H_{0} = \\frac{H_{i} - F + 2P}{2}$$\n",
    "\n",
    "Dimana:\n",
    "\n",
    "- $W_{i}$ adalah lebar dari input\n",
    "- $H_{i}$ adalah tinggi dari input\n",
    "- $F$ adalah ukuran *filter*\n",
    "- $P$ adalah ukuran *padding*"
   ]
  },
  {
   "cell_type": "markdown",
   "metadata": {},
   "source": [
    "## Pooling\n",
    "\n",
    "Pooling layer bergungsi untuk mengurangi dimensi dari fitur yang dihasilkan oleh layer convolutional. Hal ini dilakukan dengan dua cara:\n",
    "\n",
    "- Max Pooling, hanya mengambil nilai tertinggi dari proporsi yang diambil.\n",
    "- Average Pooling, mengambil rata-rata dari keseluruhan nilai dari proporsi yang diambil\n",
    "\n",
    "![Max Average Pooling](./images/max-average-pooling.jpeg)\n",
    "\n",
    "Biasanya pooling dilakukan karena:\n",
    "\n",
    "- Invariansi translasional\n",
    "- Mengurangi jumlah parameter model\n",
    "- Mengurangi overfitting\n",
    "\n",
    "Namun pooling juga jarang digunakan karena:\n",
    "\n",
    "- Dimensi data yang terlalu besar dan kompleks sehingga kita lebih fokus pada masalah *underfitting* ketimbang *overfitting*\n",
    "- Lebih baik menggunakan dropout\n",
    "- *Downsampling* pada gambar dapat mengakibatkan hilangnya informasi"
   ]
  },
  {
   "cell_type": "markdown",
   "metadata": {},
   "source": [
    "## Flattening\n",
    "\n",
    "Operasi flattening berfungsi untuk memecah matriks yang diperoleh dari operasi konvolusi atau pooling menjadi vektor kolom dengan cara melakukan stacking pada matriks tersebut per barisnya.  \n",
    "\n",
    "![Flattening](./images/flattening.png)"
   ]
  },
  {
   "cell_type": "markdown",
   "metadata": {},
   "source": [
    "## Full Connection\n",
    "\n",
    "Pada layer ini terdiri dari koneksi neuron sederhana seperti MLP pada umumnya."
   ]
  },
  {
   "cell_type": "markdown",
   "metadata": {},
   "source": [
    "## Implementasi dengan Keras"
   ]
  },
  {
   "cell_type": "markdown",
   "metadata": {},
   "source": [
    "**Load library**"
   ]
  },
  {
   "cell_type": "code",
   "execution_count": null,
   "metadata": {},
   "outputs": [],
   "source": [
    "from keras.models import Sequential\n",
    "from keras.layers import Conv2D, MaxPooling2D, Flatten, Dense\n",
    "\n",
    "import numpy as np\n",
    "import pandas as pd\n",
    "\n",
    "from sklearn.model_selection import train_test_split\n",
    "from sklearn.metrics import confusion_matrix, accuracy_score\n",
    "\n",
    "import matplotlib.pyplot as plt"
   ]
  },
  {
   "cell_type": "markdown",
   "metadata": {},
   "source": [
    "**Load dataset**"
   ]
  },
  {
   "cell_type": "code",
   "execution_count": null,
   "metadata": {},
   "outputs": [],
   "source": [
    "train_data = pd.read_csv(\"./dataset/digit_recognizer/train.csv\")\n",
    "test_data = pd.read_csv(\"./dataset/digit_recognizer/test.csv\")"
   ]
  },
  {
   "cell_type": "markdown",
   "metadata": {},
   "source": [
    "**Inspeksi Data**"
   ]
  },
  {
   "cell_type": "code",
   "execution_count": null,
   "metadata": {
    "scrolled": true
   },
   "outputs": [],
   "source": [
    "# informasi terkait tipe dan dimensi data training\n",
    "train_data.info()"
   ]
  },
  {
   "cell_type": "code",
   "execution_count": null,
   "metadata": {},
   "outputs": [],
   "source": [
    "# informasi terkait tipe dan dimensi data test\n",
    "test_data.info()"
   ]
  },
  {
   "cell_type": "code",
   "execution_count": null,
   "metadata": {},
   "outputs": [],
   "source": [
    "# cek data yang hilang pada data training\n",
    "train_data.isna().sum().describe()"
   ]
  },
  {
   "cell_type": "code",
   "execution_count": null,
   "metadata": {},
   "outputs": [],
   "source": [
    "# cek data yang hilang pada data test\n",
    "test_data.isna().sum().describe()"
   ]
  },
  {
   "cell_type": "code",
   "execution_count": null,
   "metadata": {
    "scrolled": false
   },
   "outputs": [],
   "source": [
    "# buat variabel untuk menyimpan kelas target\n",
    "y_train = train_data['label']\n",
    "\n",
    "y_train"
   ]
  },
  {
   "cell_type": "code",
   "execution_count": null,
   "metadata": {},
   "outputs": [],
   "source": [
    "# buang kolom 'label' pada train data\n",
    "train_data = train_data.drop(columns='label')"
   ]
  },
  {
   "cell_type": "code",
   "execution_count": null,
   "metadata": {},
   "outputs": [],
   "source": [
    "train_data.shape"
   ]
  },
  {
   "cell_type": "code",
   "execution_count": null,
   "metadata": {
    "scrolled": true
   },
   "outputs": [],
   "source": [
    "# cek distribusi kelas target\n",
    "y_train.value_counts().plot.barh();"
   ]
  },
  {
   "cell_type": "markdown",
   "metadata": {},
   "source": [
    "**Preprocessing data**"
   ]
  },
  {
   "cell_type": "code",
   "execution_count": null,
   "metadata": {},
   "outputs": [],
   "source": [
    "# grayscaling\n",
    "train_data = train_data/255\n",
    "\n",
    "test_data = test_data/255"
   ]
  },
  {
   "cell_type": "code",
   "execution_count": null,
   "metadata": {},
   "outputs": [],
   "source": [
    "# reshaping\n",
    "train_data = train_data.values.reshape(-1,28,28,1)\n",
    "\n",
    "test_data = test_data.values.reshape(-1,28,28,1)"
   ]
  },
  {
   "cell_type": "code",
   "execution_count": null,
   "metadata": {
    "scrolled": false
   },
   "outputs": [],
   "source": [
    "y_train = pd.get_dummies(y_train).values\n",
    "\n",
    "y_train"
   ]
  },
  {
   "cell_type": "code",
   "execution_count": null,
   "metadata": {},
   "outputs": [],
   "source": [
    "X_train, X_val, Y_train, Y_val = train_test_split(train_data, y_train, test_size = 0.1, random_state=1000)"
   ]
  },
  {
   "cell_type": "code",
   "execution_count": null,
   "metadata": {},
   "outputs": [],
   "source": [
    "plt.imshow(X_train[0][:,:,0]);"
   ]
  },
  {
   "cell_type": "markdown",
   "metadata": {},
   "source": [
    "**Inisiasi Model**"
   ]
  },
  {
   "cell_type": "code",
   "execution_count": null,
   "metadata": {},
   "outputs": [],
   "source": [
    "# Inisiasi model sequential\n",
    "model = Sequential()"
   ]
  },
  {
   "cell_type": "markdown",
   "metadata": {},
   "source": [
    "**Menambah convolution layer**"
   ]
  },
  {
   "cell_type": "code",
   "execution_count": null,
   "metadata": {},
   "outputs": [],
   "source": [
    "model.add(Conv2D(filters=32, kernel_size=3, strides=3, input_shape=(28,28,1), activation='relu'))"
   ]
  },
  {
   "cell_type": "markdown",
   "metadata": {},
   "source": [
    "*Keterangan*\n",
    "\n",
    "API Conv2D umumnya berfungsi untuk melakukan filtering pada data berbentuk gambar. Terdapat parameter yang biasanya sering dipakai dan diatur nilainya yaitu:\n",
    "\n",
    "- ```filters```: mengatur ukuran dari output atau jumlah filter, dalam hal ini kita akan mengubah gambar yang berukuran 64 x 64 menjadi 32 x 32.\n",
    "- ```kernel_size```: berfungsi untuk mengatur ukuran matriks konvolusi yang digunakan. Jika diisi berupa nilai integer maka matriksnya akan berbentuk matriks persegi, namun jika diisi dengan tuple (m,n) maka matriks konvolusi akan berukuran m x n.\n",
    "- ```strides```: berfungsi untuk mengatur seberapa besar perpindahan yang dilakukan oleh matriks konvolusi.\n",
    "- ```input_shape```: berfungsi untuk memberi tahu bentuk dari input, dalam hal ini berupa gambar berukuran 64 x 64 dengan 3 channel warna.\n",
    "- ```activation```: berfungsi untuk memberi tahu fungsi aktivasi yang dipakai pada layer ini, dalam hal ini kita menggunakan ```relu```."
   ]
  },
  {
   "cell_type": "markdown",
   "metadata": {},
   "source": [
    "**Menambah pooling layer**"
   ]
  },
  {
   "cell_type": "code",
   "execution_count": null,
   "metadata": {},
   "outputs": [],
   "source": [
    "model.add(MaxPooling2D(pool_size=(2, 2)))"
   ]
  },
  {
   "cell_type": "markdown",
   "metadata": {},
   "source": [
    "*Keterangan*\n",
    "\n",
    "API MaxPooling2D umumnya berfungsi untuk melakukan proses downsampling pada data dengan mengambil nilai maksimum setelah melalui *convolution layer*. Salah satu parameter yang harus diatur nilainya adalah *pool_size*, yaitu mengatur matriks downsampling yang digunakan."
   ]
  },
  {
   "cell_type": "markdown",
   "metadata": {},
   "source": [
    "**Melakukan flattening**"
   ]
  },
  {
   "cell_type": "code",
   "execution_count": null,
   "metadata": {},
   "outputs": [],
   "source": [
    "model.add(Flatten())"
   ]
  },
  {
   "cell_type": "markdown",
   "metadata": {},
   "source": [
    "**Hubungkan dengan Dense**"
   ]
  },
  {
   "cell_type": "code",
   "execution_count": null,
   "metadata": {},
   "outputs": [],
   "source": [
    "model.add(Dense(units=128, activation='sigmoid'))"
   ]
  },
  {
   "cell_type": "code",
   "execution_count": null,
   "metadata": {},
   "outputs": [],
   "source": [
    "model.add(Dense(units=10, activation='softmax'))"
   ]
  },
  {
   "cell_type": "code",
   "execution_count": null,
   "metadata": {},
   "outputs": [],
   "source": [
    "model.compile(optimizer='adam', loss='categorical_crossentropy', metrics=['accuracy'])"
   ]
  },
  {
   "cell_type": "markdown",
   "metadata": {},
   "source": [
    "**Model fitting**"
   ]
  },
  {
   "cell_type": "code",
   "execution_count": null,
   "metadata": {
    "scrolled": true
   },
   "outputs": [],
   "source": [
    "model.fit(X_train, Y_train, epochs=5)"
   ]
  },
  {
   "cell_type": "markdown",
   "metadata": {},
   "source": [
    "**Melihat hasil prediksi**"
   ]
  },
  {
   "cell_type": "code",
   "execution_count": null,
   "metadata": {},
   "outputs": [],
   "source": [
    "hasil_prediksi = model.predict(X_val)"
   ]
  },
  {
   "cell_type": "code",
   "execution_count": null,
   "metadata": {},
   "outputs": [],
   "source": [
    "hasil_prediksi"
   ]
  },
  {
   "cell_type": "code",
   "execution_count": null,
   "metadata": {},
   "outputs": [],
   "source": [
    "hasil_prediksi_crips = np.argmax(hasil_prediksi, axis=1)"
   ]
  },
  {
   "cell_type": "code",
   "execution_count": null,
   "metadata": {},
   "outputs": [],
   "source": [
    "y_val_crips = np.argmax(Y_val, axis=1)"
   ]
  },
  {
   "cell_type": "code",
   "execution_count": null,
   "metadata": {},
   "outputs": [],
   "source": [
    "accuracy_score(y_val_crips, hasil_prediksi_crips)"
   ]
  },
  {
   "cell_type": "markdown",
   "metadata": {},
   "source": [
    "**Submit Prediksi ke Kaggle**"
   ]
  },
  {
   "cell_type": "code",
   "execution_count": null,
   "metadata": {},
   "outputs": [],
   "source": [
    "submission = model.predict(test_data)"
   ]
  },
  {
   "cell_type": "code",
   "execution_count": null,
   "metadata": {},
   "outputs": [],
   "source": [
    "submission = np.argmax(submission, axis=1)"
   ]
  },
  {
   "cell_type": "code",
   "execution_count": null,
   "metadata": {},
   "outputs": [],
   "source": [
    "pd.DataFrame({\"ImageId\": range(1,28001), \"Label\": submission}).to_csv(\"submission.csv\", index=False)"
   ]
  },
  {
   "cell_type": "markdown",
   "metadata": {},
   "source": [
    "**Latihan**\n",
    "\n",
    "1. Cek apakah dengan menginisiasi nilai weight di awal akan membuat proses belajar jauh lebih cepat?\n",
    "2. Apakah dengan membuang layer pooling memiliki pengaruh besar pada akurasi atau kecepatan proses belajar?"
   ]
  }
 ],
 "metadata": {
  "kernelspec": {
   "display_name": "Python 3",
   "language": "python",
   "name": "python3"
  },
  "language_info": {
   "codemirror_mode": {
    "name": "ipython",
    "version": 3
   },
   "file_extension": ".py",
   "mimetype": "text/x-python",
   "name": "python",
   "nbconvert_exporter": "python",
   "pygments_lexer": "ipython3",
   "version": "3.7.5"
  }
 },
 "nbformat": 4,
 "nbformat_minor": 2
}
